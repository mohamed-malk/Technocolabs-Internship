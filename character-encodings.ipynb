{
 "cells": [
  {
   "cell_type": "markdown",
   "id": "1c266b26",
   "metadata": {
    "papermill": {
     "duration": 0.004764,
     "end_time": "2023-01-17T20:24:23.788276",
     "exception": false,
     "start_time": "2023-01-17T20:24:23.783512",
     "status": "completed"
    },
    "tags": []
   },
   "source": [
    "**This notebook is an exercise in the [Data Cleaning](https://www.kaggle.com/learn/data-cleaning) course.  You can reference the tutorial at [this link](https://www.kaggle.com/alexisbcook/character-encodings).**\n",
    "\n",
    "---\n"
   ]
  },
  {
   "cell_type": "markdown",
   "id": "9b416a13",
   "metadata": {
    "papermill": {
     "duration": 0.003623,
     "end_time": "2023-01-17T20:24:23.795947",
     "exception": false,
     "start_time": "2023-01-17T20:24:23.792324",
     "status": "completed"
    },
    "tags": []
   },
   "source": [
    "In this exercise, you'll apply what you learned in the **Character encodings** tutorial.\n",
    "\n",
    "# Setup\n",
    "\n",
    "The questions below will give you feedback on your work. Run the following cell to set up the feedback system."
   ]
  },
  {
   "cell_type": "code",
   "execution_count": 1,
   "id": "e30e162b",
   "metadata": {
    "execution": {
     "iopub.execute_input": "2023-01-17T20:24:23.806533Z",
     "iopub.status.busy": "2023-01-17T20:24:23.805992Z",
     "iopub.status.idle": "2023-01-17T20:24:23.892745Z",
     "shell.execute_reply": "2023-01-17T20:24:23.891405Z"
    },
    "papermill": {
     "duration": 0.094488,
     "end_time": "2023-01-17T20:24:23.894797",
     "exception": false,
     "start_time": "2023-01-17T20:24:23.800309",
     "status": "completed"
    },
    "tags": []
   },
   "outputs": [
    {
     "name": "stdout",
     "output_type": "stream",
     "text": [
      "Setup Complete\n"
     ]
    }
   ],
   "source": [
    "from learntools.core import binder\n",
    "binder.bind(globals())\n",
    "from learntools.data_cleaning.ex4 import *\n",
    "print(\"Setup Complete\")"
   ]
  },
  {
   "cell_type": "markdown",
   "id": "00b1a2ed",
   "metadata": {
    "papermill": {
     "duration": 0.003833,
     "end_time": "2023-01-17T20:24:23.902763",
     "exception": false,
     "start_time": "2023-01-17T20:24:23.898930",
     "status": "completed"
    },
    "tags": []
   },
   "source": [
    "# Get our environment set up\n",
    "\n",
    "The first thing we'll need to do is load in the libraries we'll be using."
   ]
  },
  {
   "cell_type": "code",
   "execution_count": 2,
   "id": "5e453959",
   "metadata": {
    "execution": {
     "iopub.execute_input": "2023-01-17T20:24:23.913149Z",
     "iopub.status.busy": "2023-01-17T20:24:23.912807Z",
     "iopub.status.idle": "2023-01-17T20:24:23.918573Z",
     "shell.execute_reply": "2023-01-17T20:24:23.916909Z"
    },
    "papermill": {
     "duration": 0.013944,
     "end_time": "2023-01-17T20:24:23.920735",
     "exception": false,
     "start_time": "2023-01-17T20:24:23.906791",
     "status": "completed"
    },
    "tags": []
   },
   "outputs": [],
   "source": [
    "# modules we'll use\n",
    "import pandas as pd\n",
    "import numpy as np\n",
    "\n",
    "# helpful character encoding module\n",
    "import chardet\n",
    "\n",
    "# set seed for reproducibility\n",
    "np.random.seed(0)"
   ]
  },
  {
   "cell_type": "markdown",
   "id": "095cdaa6",
   "metadata": {
    "papermill": {
     "duration": 0.003634,
     "end_time": "2023-01-17T20:24:23.928520",
     "exception": false,
     "start_time": "2023-01-17T20:24:23.924886",
     "status": "completed"
    },
    "tags": []
   },
   "source": [
    "# 1) What are encodings?\n",
    "\n",
    "You're working with a dataset composed of bytes.  Run the code cell below to print a sample entry."
   ]
  },
  {
   "cell_type": "code",
   "execution_count": 3,
   "id": "5b5e5fca",
   "metadata": {
    "execution": {
     "iopub.execute_input": "2023-01-17T20:24:23.938701Z",
     "iopub.status.busy": "2023-01-17T20:24:23.937531Z",
     "iopub.status.idle": "2023-01-17T20:24:23.944059Z",
     "shell.execute_reply": "2023-01-17T20:24:23.943193Z"
    },
    "papermill": {
     "duration": 0.014362,
     "end_time": "2023-01-17T20:24:23.946748",
     "exception": false,
     "start_time": "2023-01-17T20:24:23.932386",
     "status": "completed"
    },
    "tags": []
   },
   "outputs": [
    {
     "name": "stdout",
     "output_type": "stream",
     "text": [
      "b'\\xa7A\\xa6n'\n",
      "data type: <class 'bytes'>\n"
     ]
    }
   ],
   "source": [
    "sample_entry = b'\\xa7A\\xa6n'\n",
    "print(sample_entry)\n",
    "print('data type:', type(sample_entry))"
   ]
  },
  {
   "cell_type": "markdown",
   "id": "72c6fa17",
   "metadata": {
    "papermill": {
     "duration": 0.00408,
     "end_time": "2023-01-17T20:24:23.955224",
     "exception": false,
     "start_time": "2023-01-17T20:24:23.951144",
     "status": "completed"
    },
    "tags": []
   },
   "source": [
    "You notice that it doesn't use the standard UTF-8 encoding. \n",
    "\n",
    "Use the next code cell to create a variable `new_entry` that changes the encoding from `\"big5-tw\"` to `\"utf-8\"`.  `new_entry` should have the bytes datatype."
   ]
  },
  {
   "cell_type": "code",
   "execution_count": 4,
   "id": "914c60dc",
   "metadata": {
    "execution": {
     "iopub.execute_input": "2023-01-17T20:24:23.965652Z",
     "iopub.status.busy": "2023-01-17T20:24:23.964997Z",
     "iopub.status.idle": "2023-01-17T20:24:23.974909Z",
     "shell.execute_reply": "2023-01-17T20:24:23.973048Z"
    },
    "papermill": {
     "duration": 0.018198,
     "end_time": "2023-01-17T20:24:23.977525",
     "exception": false,
     "start_time": "2023-01-17T20:24:23.959327",
     "status": "completed"
    },
    "tags": []
   },
   "outputs": [
    {
     "data": {
      "application/javascript": [
       "parent.postMessage({\"jupyterEvent\": \"custom.exercise_interaction\", \"data\": {\"outcomeType\": 1, \"valueTowardsCompletion\": 0.3333333333333333, \"interactionType\": 1, \"questionType\": 1, \"questionId\": \"1_EncodingsIntro\", \"learnToolsVersion\": \"0.3.4\", \"failureMessage\": \"\", \"exceptionClass\": \"\", \"trace\": \"\"}}, \"*\")"
      ],
      "text/plain": [
       "<IPython.core.display.Javascript object>"
      ]
     },
     "metadata": {},
     "output_type": "display_data"
    },
    {
     "data": {
      "text/markdown": [
       "<span style=\"color:#33cc33\">Correct</span>"
      ],
      "text/plain": [
       "Correct"
      ]
     },
     "metadata": {},
     "output_type": "display_data"
    }
   ],
   "source": [
    "\n",
    "new_entry = sample_entry.decode('big5-tw', errors='relace').encode('utf-8')\n",
    "# Check your answer\n",
    "q1.check()"
   ]
  },
  {
   "cell_type": "code",
   "execution_count": 5,
   "id": "60665410",
   "metadata": {
    "execution": {
     "iopub.execute_input": "2023-01-17T20:24:23.988119Z",
     "iopub.status.busy": "2023-01-17T20:24:23.987508Z",
     "iopub.status.idle": "2023-01-17T20:24:23.991560Z",
     "shell.execute_reply": "2023-01-17T20:24:23.990760Z"
    },
    "papermill": {
     "duration": 0.011318,
     "end_time": "2023-01-17T20:24:23.993484",
     "exception": false,
     "start_time": "2023-01-17T20:24:23.982166",
     "status": "completed"
    },
    "tags": []
   },
   "outputs": [],
   "source": [
    "# Lines below will give you a hint or solution code\n",
    "#q1.hint()\n",
    "#q1.solution()"
   ]
  },
  {
   "cell_type": "markdown",
   "id": "51105b6c",
   "metadata": {
    "papermill": {
     "duration": 0.005371,
     "end_time": "2023-01-17T20:24:24.003830",
     "exception": false,
     "start_time": "2023-01-17T20:24:23.998459",
     "status": "completed"
    },
    "tags": []
   },
   "source": [
    "# 2) Reading in files with encoding problems\n",
    "\n",
    "Use the code cell below to read in this file at path `\"../input/fatal-police-shootings-in-the-us/PoliceKillingsUS.csv\"`.  \n",
    "\n",
    "Figure out what the correct encoding should be and read in the file to a DataFrame `police_killings`."
   ]
  },
  {
   "cell_type": "code",
   "execution_count": 6,
   "id": "256709c5",
   "metadata": {
    "execution": {
     "iopub.execute_input": "2023-01-17T20:24:24.014737Z",
     "iopub.status.busy": "2023-01-17T20:24:24.013664Z",
     "iopub.status.idle": "2023-01-17T20:24:25.403061Z",
     "shell.execute_reply": "2023-01-17T20:24:25.401471Z"
    },
    "papermill": {
     "duration": 1.398444,
     "end_time": "2023-01-17T20:24:25.406655",
     "exception": false,
     "start_time": "2023-01-17T20:24:24.008211",
     "status": "completed"
    },
    "tags": []
   },
   "outputs": [
    {
     "name": "stdout",
     "output_type": "stream",
     "text": [
      "{'encoding': 'Windows-1252', 'confidence': 0.73, 'language': ''}\n"
     ]
    }
   ],
   "source": [
    "# (Optional) Use this code cell for any additional work.\n",
    "with open('../input/fatal-police-shootings-in-the-us/PoliceKillingsUS.csv','rb') as file :\n",
    "    print(chardet.detect(file.read(100000)))"
   ]
  },
  {
   "cell_type": "code",
   "execution_count": 7,
   "id": "4ce01ef6",
   "metadata": {
    "execution": {
     "iopub.execute_input": "2023-01-17T20:24:25.419570Z",
     "iopub.status.busy": "2023-01-17T20:24:25.418277Z",
     "iopub.status.idle": "2023-01-17T20:24:25.442734Z",
     "shell.execute_reply": "2023-01-17T20:24:25.441215Z"
    },
    "papermill": {
     "duration": 0.033234,
     "end_time": "2023-01-17T20:24:25.445405",
     "exception": false,
     "start_time": "2023-01-17T20:24:25.412171",
     "status": "completed"
    },
    "tags": []
   },
   "outputs": [
    {
     "data": {
      "application/javascript": [
       "parent.postMessage({\"jupyterEvent\": \"custom.exercise_interaction\", \"data\": {\"outcomeType\": 1, \"valueTowardsCompletion\": 0.3333333333333333, \"interactionType\": 1, \"questionType\": 1, \"questionId\": \"2_ReadIn\", \"learnToolsVersion\": \"0.3.4\", \"failureMessage\": \"\", \"exceptionClass\": \"\", \"trace\": \"\"}}, \"*\")"
      ],
      "text/plain": [
       "<IPython.core.display.Javascript object>"
      ]
     },
     "metadata": {},
     "output_type": "display_data"
    },
    {
     "data": {
      "text/markdown": [
       "<span style=\"color:#33cc33\">Correct</span>"
      ],
      "text/plain": [
       "Correct"
      ]
     },
     "metadata": {},
     "output_type": "display_data"
    }
   ],
   "source": [
    "# TODO: Load in the DataFrame correctly.\n",
    "\n",
    "police_killings = pd.read_csv('../input/fatal-police-shootings-in-the-us/PoliceKillingsUS.csv', encoding='Windows-1252')\n",
    "\n",
    "# Check your answer\n",
    "q2.check()"
   ]
  },
  {
   "cell_type": "markdown",
   "id": "6d3d1a59",
   "metadata": {
    "papermill": {
     "duration": 0.00448,
     "end_time": "2023-01-17T20:24:25.454761",
     "exception": false,
     "start_time": "2023-01-17T20:24:25.450281",
     "status": "completed"
    },
    "tags": []
   },
   "source": [
    "Feel free to use any additional code cells for supplemental work.  To get credit for finishing this question, you'll need to run `q2.check()` and get a result of **Correct**."
   ]
  },
  {
   "cell_type": "code",
   "execution_count": 8,
   "id": "a9f17a2b",
   "metadata": {
    "execution": {
     "iopub.execute_input": "2023-01-17T20:24:25.465469Z",
     "iopub.status.busy": "2023-01-17T20:24:25.465072Z",
     "iopub.status.idle": "2023-01-17T20:24:25.470232Z",
     "shell.execute_reply": "2023-01-17T20:24:25.468967Z"
    },
    "papermill": {
     "duration": 0.013404,
     "end_time": "2023-01-17T20:24:25.472712",
     "exception": false,
     "start_time": "2023-01-17T20:24:25.459308",
     "status": "completed"
    },
    "tags": []
   },
   "outputs": [],
   "source": [
    "# Lines below will give you a hint or solution code\n",
    "#q2.hint()\n",
    "#q2.solution()"
   ]
  },
  {
   "cell_type": "markdown",
   "id": "1717f76d",
   "metadata": {
    "papermill": {
     "duration": 0.004383,
     "end_time": "2023-01-17T20:24:25.481859",
     "exception": false,
     "start_time": "2023-01-17T20:24:25.477476",
     "status": "completed"
    },
    "tags": []
   },
   "source": [
    "# 3) Saving your files with UTF-8 encoding\n",
    "\n",
    "Save a version of the police killings dataset to CSV with UTF-8 encoding.  Your answer will be marked correct after saving this file.  \n",
    "\n",
    "Note: When using the `to_csv()` method, supply only the name of the file (e.g., `\"my_file.csv\"`).  This saves the file at the filepath `\"/kaggle/working/my_file.csv\"`."
   ]
  },
  {
   "cell_type": "code",
   "execution_count": 9,
   "id": "2783566c",
   "metadata": {
    "execution": {
     "iopub.execute_input": "2023-01-17T20:24:25.492496Z",
     "iopub.status.busy": "2023-01-17T20:24:25.492008Z",
     "iopub.status.idle": "2023-01-17T20:24:25.520912Z",
     "shell.execute_reply": "2023-01-17T20:24:25.519644Z"
    },
    "papermill": {
     "duration": 0.037143,
     "end_time": "2023-01-17T20:24:25.523433",
     "exception": false,
     "start_time": "2023-01-17T20:24:25.486290",
     "status": "completed"
    },
    "tags": []
   },
   "outputs": [
    {
     "data": {
      "application/javascript": [
       "parent.postMessage({\"jupyterEvent\": \"custom.exercise_interaction\", \"data\": {\"outcomeType\": 1, \"valueTowardsCompletion\": 0.3333333333333333, \"interactionType\": 1, \"questionType\": 2, \"questionId\": \"3_SaveCSV\", \"learnToolsVersion\": \"0.3.4\", \"failureMessage\": \"\", \"exceptionClass\": \"\", \"trace\": \"\"}}, \"*\")"
      ],
      "text/plain": [
       "<IPython.core.display.Javascript object>"
      ]
     },
     "metadata": {},
     "output_type": "display_data"
    },
    {
     "data": {
      "text/markdown": [
       "<span style=\"color:#33cc33\">Correct</span>"
      ],
      "text/plain": [
       "Correct"
      ]
     },
     "metadata": {},
     "output_type": "display_data"
    }
   ],
   "source": [
    "# TODO: Save the police killings dataset to CSV\n",
    "police_killings.to_csv('/kaggle/working/new_file.csv')\n",
    "\n",
    "# Check your answer\n",
    "q3.check()"
   ]
  },
  {
   "cell_type": "code",
   "execution_count": 10,
   "id": "19ada170",
   "metadata": {
    "execution": {
     "iopub.execute_input": "2023-01-17T20:24:25.535316Z",
     "iopub.status.busy": "2023-01-17T20:24:25.534912Z",
     "iopub.status.idle": "2023-01-17T20:24:25.539396Z",
     "shell.execute_reply": "2023-01-17T20:24:25.538255Z"
    },
    "papermill": {
     "duration": 0.013094,
     "end_time": "2023-01-17T20:24:25.541765",
     "exception": false,
     "start_time": "2023-01-17T20:24:25.528671",
     "status": "completed"
    },
    "tags": []
   },
   "outputs": [],
   "source": [
    "# Lines below will give you a hint or solution code\n",
    "#q3.hint()\n",
    "#q3.solution()"
   ]
  },
  {
   "cell_type": "markdown",
   "id": "8ccf8444",
   "metadata": {
    "papermill": {
     "duration": 0.004749,
     "end_time": "2023-01-17T20:24:25.551649",
     "exception": false,
     "start_time": "2023-01-17T20:24:25.546900",
     "status": "completed"
    },
    "tags": []
   },
   "source": [
    "# (Optional) More practice\n",
    "\n",
    "Check out [this dataset of files in different character encodings](https://www.kaggle.com/rtatman/character-encoding-examples). Can you read in all the files with their original encodings and them save them out as UTF-8 files?\n",
    "\n",
    "If you have a file that's in UTF-8 but has just a couple of weird-looking characters in it, you can try out the [ftfy module](https://ftfy.readthedocs.io/en/latest/#) and see if it helps. \n",
    "\n",
    "# Keep going\n",
    "\n",
    "In the final lesson, learn how to [**clean up inconsistent text entries**](https://www.kaggle.com/alexisbcook/inconsistent-data-entry) in your dataset."
   ]
  },
  {
   "cell_type": "markdown",
   "id": "2bdd217c",
   "metadata": {
    "papermill": {
     "duration": 0.004569,
     "end_time": "2023-01-17T20:24:25.561079",
     "exception": false,
     "start_time": "2023-01-17T20:24:25.556510",
     "status": "completed"
    },
    "tags": []
   },
   "source": [
    "---\n",
    "\n",
    "\n",
    "\n",
    "\n",
    "*Have questions or comments? Visit the [course discussion forum](https://www.kaggle.com/learn/data-cleaning/discussion) to chat with other learners.*"
   ]
  }
 ],
 "metadata": {
  "kernelspec": {
   "display_name": "Python 3",
   "language": "python",
   "name": "python3"
  },
  "language_info": {
   "codemirror_mode": {
    "name": "ipython",
    "version": 3
   },
   "file_extension": ".py",
   "mimetype": "text/x-python",
   "name": "python",
   "nbconvert_exporter": "python",
   "pygments_lexer": "ipython3",
   "version": "3.7.12"
  },
  "papermill": {
   "default_parameters": {},
   "duration": 10.023506,
   "end_time": "2023-01-17T20:24:26.187363",
   "environment_variables": {},
   "exception": null,
   "input_path": "__notebook__.ipynb",
   "output_path": "__notebook__.ipynb",
   "parameters": {},
   "start_time": "2023-01-17T20:24:16.163857",
   "version": "2.3.4"
  }
 },
 "nbformat": 4,
 "nbformat_minor": 5
}
