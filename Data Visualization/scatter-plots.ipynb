{
 "cells": [
  {
   "cell_type": "markdown",
   "id": "e074a8bf",
   "metadata": {
    "papermill": {
     "duration": 0.010043,
     "end_time": "2023-01-21T01:46:25.097232",
     "exception": false,
     "start_time": "2023-01-21T01:46:25.087189",
     "status": "completed"
    },
    "tags": []
   },
   "source": [
    "**This notebook is an exercise in the [Data Visualization](https://www.kaggle.com/learn/data-visualization) course.  You can reference the tutorial at [this link](https://www.kaggle.com/alexisbcook/scatter-plots).**\n",
    "\n",
    "---\n"
   ]
  },
  {
   "cell_type": "markdown",
   "id": "46e35558",
   "metadata": {
    "papermill": {
     "duration": 0.009005,
     "end_time": "2023-01-21T01:46:25.115259",
     "exception": false,
     "start_time": "2023-01-21T01:46:25.106254",
     "status": "completed"
    },
    "tags": []
   },
   "source": [
    "In this exercise, you will use your new knowledge to propose a solution to a real-world scenario.  To succeed, you will need to import data into Python, answer questions using the data, and generate **scatter plots** to understand patterns in the data.\n",
    "\n",
    "## Scenario\n",
    "\n",
    "You work for a major candy producer, and your goal is to write a report that your company can use to guide the design of its next product.  Soon after starting your research, you stumble across this [very interesting dataset](https://fivethirtyeight.com/features/the-ultimate-halloween-candy-power-ranking/) containing results from a fun survey to crowdsource favorite candies.\n",
    "\n",
    "## Setup\n",
    "\n",
    "Run the next cell to import and configure the Python libraries that you need to complete the exercise."
   ]
  },
  {
   "cell_type": "code",
   "execution_count": 1,
   "id": "e554288f",
   "metadata": {
    "execution": {
     "iopub.execute_input": "2023-01-21T01:46:25.135160Z",
     "iopub.status.busy": "2023-01-21T01:46:25.134710Z",
     "iopub.status.idle": "2023-01-21T01:46:26.131777Z",
     "shell.execute_reply": "2023-01-21T01:46:26.130537Z"
    },
    "papermill": {
     "duration": 1.009991,
     "end_time": "2023-01-21T01:46:26.134348",
     "exception": false,
     "start_time": "2023-01-21T01:46:25.124357",
     "status": "completed"
    },
    "tags": []
   },
   "outputs": [
    {
     "name": "stdout",
     "output_type": "stream",
     "text": [
      "Setup Complete\n"
     ]
    }
   ],
   "source": [
    "import pandas as pd\n",
    "pd.plotting.register_matplotlib_converters()\n",
    "import matplotlib.pyplot as plt\n",
    "%matplotlib inline\n",
    "import seaborn as sns\n",
    "print(\"Setup Complete\")"
   ]
  },
  {
   "cell_type": "markdown",
   "id": "22041930",
   "metadata": {
    "papermill": {
     "duration": 0.008459,
     "end_time": "2023-01-21T01:46:26.151966",
     "exception": false,
     "start_time": "2023-01-21T01:46:26.143507",
     "status": "completed"
    },
    "tags": []
   },
   "source": [
    "The questions below will give you feedback on your work. Run the following cell to set up our feedback system."
   ]
  },
  {
   "cell_type": "code",
   "execution_count": 2,
   "id": "23d3f301",
   "metadata": {
    "execution": {
     "iopub.execute_input": "2023-01-21T01:46:26.173716Z",
     "iopub.status.busy": "2023-01-21T01:46:26.173279Z",
     "iopub.status.idle": "2023-01-21T01:46:26.241863Z",
     "shell.execute_reply": "2023-01-21T01:46:26.240598Z"
    },
    "papermill": {
     "duration": 0.081091,
     "end_time": "2023-01-21T01:46:26.243993",
     "exception": false,
     "start_time": "2023-01-21T01:46:26.162902",
     "status": "completed"
    },
    "tags": []
   },
   "outputs": [
    {
     "name": "stdout",
     "output_type": "stream",
     "text": [
      "Setup Complete\n"
     ]
    }
   ],
   "source": [
    "# Set up code checking\n",
    "import os\n",
    "if not os.path.exists(\"../input/candy.csv\"):\n",
    "    os.symlink(\"../input/data-for-datavis/candy.csv\", \"../input/candy.csv\") \n",
    "from learntools.core import binder\n",
    "binder.bind(globals())\n",
    "from learntools.data_viz_to_coder.ex4 import *\n",
    "print(\"Setup Complete\")"
   ]
  },
  {
   "cell_type": "markdown",
   "id": "b748d5a5",
   "metadata": {
    "papermill": {
     "duration": 0.009228,
     "end_time": "2023-01-21T01:46:26.262200",
     "exception": false,
     "start_time": "2023-01-21T01:46:26.252972",
     "status": "completed"
    },
    "tags": []
   },
   "source": [
    "## Step 1: Load the Data\n",
    "\n",
    "Read the candy data file into `candy_data`.  Use the `\"id\"` column to label the rows."
   ]
  },
  {
   "cell_type": "code",
   "execution_count": 3,
   "id": "4ef8ac04",
   "metadata": {
    "execution": {
     "iopub.execute_input": "2023-01-21T01:46:26.282226Z",
     "iopub.status.busy": "2023-01-21T01:46:26.281047Z",
     "iopub.status.idle": "2023-01-21T01:46:26.296981Z",
     "shell.execute_reply": "2023-01-21T01:46:26.295580Z"
    },
    "papermill": {
     "duration": 0.02827,
     "end_time": "2023-01-21T01:46:26.299402",
     "exception": false,
     "start_time": "2023-01-21T01:46:26.271132",
     "status": "completed"
    },
    "tags": []
   },
   "outputs": [
    {
     "data": {
      "application/javascript": [
       "parent.postMessage({\"jupyterEvent\": \"custom.exercise_interaction\", \"data\": {\"outcomeType\": 1, \"valueTowardsCompletion\": 0.3333333333333333, \"interactionType\": 1, \"questionType\": 1, \"questionId\": \"1_LoadData\", \"learnToolsVersion\": \"0.3.4\", \"failureMessage\": \"\", \"exceptionClass\": \"\", \"trace\": \"\"}}, \"*\")"
      ],
      "text/plain": [
       "<IPython.core.display.Javascript object>"
      ]
     },
     "metadata": {},
     "output_type": "display_data"
    },
    {
     "data": {
      "text/markdown": [
       "<span style=\"color:#33cc33\">Correct</span>"
      ],
      "text/plain": [
       "Correct"
      ]
     },
     "metadata": {},
     "output_type": "display_data"
    }
   ],
   "source": [
    "# Path of the file to read\n",
    "candy_filepath = \"../input/candy.csv\"\n",
    "\n",
    "# Fill in the line below to read the file into a variable candy_data\n",
    "candy_data = pd.read_csv(candy_filepath, index_col='id')\n",
    "\n",
    "# Run the line below with no changes to check that you've loaded the data correctly\n",
    "step_1.check()"
   ]
  },
  {
   "cell_type": "code",
   "execution_count": 4,
   "id": "5224aab6",
   "metadata": {
    "execution": {
     "iopub.execute_input": "2023-01-21T01:46:26.320106Z",
     "iopub.status.busy": "2023-01-21T01:46:26.319667Z",
     "iopub.status.idle": "2023-01-21T01:46:26.324509Z",
     "shell.execute_reply": "2023-01-21T01:46:26.323330Z"
    },
    "papermill": {
     "duration": 0.018288,
     "end_time": "2023-01-21T01:46:26.326820",
     "exception": false,
     "start_time": "2023-01-21T01:46:26.308532",
     "status": "completed"
    },
    "tags": []
   },
   "outputs": [],
   "source": [
    "# Lines below will give you a hint or solution code\n",
    "#step_1.hint()\n",
    "#step_1.solution()"
   ]
  },
  {
   "cell_type": "markdown",
   "id": "2236e3cc",
   "metadata": {
    "papermill": {
     "duration": 0.009043,
     "end_time": "2023-01-21T01:46:26.345410",
     "exception": false,
     "start_time": "2023-01-21T01:46:26.336367",
     "status": "completed"
    },
    "tags": []
   },
   "source": [
    "## Step 2: Review the data\n",
    "\n",
    "Use a Python command to print the first five rows of the data."
   ]
  },
  {
   "cell_type": "code",
   "execution_count": 5,
   "id": "5729efc5",
   "metadata": {
    "execution": {
     "iopub.execute_input": "2023-01-21T01:46:26.365407Z",
     "iopub.status.busy": "2023-01-21T01:46:26.365023Z",
     "iopub.status.idle": "2023-01-21T01:46:26.385517Z",
     "shell.execute_reply": "2023-01-21T01:46:26.384337Z"
    },
    "papermill": {
     "duration": 0.033501,
     "end_time": "2023-01-21T01:46:26.388151",
     "exception": false,
     "start_time": "2023-01-21T01:46:26.354650",
     "status": "completed"
    },
    "tags": []
   },
   "outputs": [
    {
     "data": {
      "text/html": [
       "<div>\n",
       "<style scoped>\n",
       "    .dataframe tbody tr th:only-of-type {\n",
       "        vertical-align: middle;\n",
       "    }\n",
       "\n",
       "    .dataframe tbody tr th {\n",
       "        vertical-align: top;\n",
       "    }\n",
       "\n",
       "    .dataframe thead th {\n",
       "        text-align: right;\n",
       "    }\n",
       "</style>\n",
       "<table border=\"1\" class=\"dataframe\">\n",
       "  <thead>\n",
       "    <tr style=\"text-align: right;\">\n",
       "      <th></th>\n",
       "      <th>competitorname</th>\n",
       "      <th>chocolate</th>\n",
       "      <th>fruity</th>\n",
       "      <th>caramel</th>\n",
       "      <th>peanutyalmondy</th>\n",
       "      <th>nougat</th>\n",
       "      <th>crispedricewafer</th>\n",
       "      <th>hard</th>\n",
       "      <th>bar</th>\n",
       "      <th>pluribus</th>\n",
       "      <th>sugarpercent</th>\n",
       "      <th>pricepercent</th>\n",
       "      <th>winpercent</th>\n",
       "    </tr>\n",
       "    <tr>\n",
       "      <th>id</th>\n",
       "      <th></th>\n",
       "      <th></th>\n",
       "      <th></th>\n",
       "      <th></th>\n",
       "      <th></th>\n",
       "      <th></th>\n",
       "      <th></th>\n",
       "      <th></th>\n",
       "      <th></th>\n",
       "      <th></th>\n",
       "      <th></th>\n",
       "      <th></th>\n",
       "      <th></th>\n",
       "    </tr>\n",
       "  </thead>\n",
       "  <tbody>\n",
       "    <tr>\n",
       "      <th>0</th>\n",
       "      <td>100 Grand</td>\n",
       "      <td>Yes</td>\n",
       "      <td>No</td>\n",
       "      <td>Yes</td>\n",
       "      <td>No</td>\n",
       "      <td>No</td>\n",
       "      <td>Yes</td>\n",
       "      <td>No</td>\n",
       "      <td>Yes</td>\n",
       "      <td>No</td>\n",
       "      <td>0.732</td>\n",
       "      <td>0.860</td>\n",
       "      <td>66.971725</td>\n",
       "    </tr>\n",
       "    <tr>\n",
       "      <th>1</th>\n",
       "      <td>3 Musketeers</td>\n",
       "      <td>Yes</td>\n",
       "      <td>No</td>\n",
       "      <td>No</td>\n",
       "      <td>No</td>\n",
       "      <td>Yes</td>\n",
       "      <td>No</td>\n",
       "      <td>No</td>\n",
       "      <td>Yes</td>\n",
       "      <td>No</td>\n",
       "      <td>0.604</td>\n",
       "      <td>0.511</td>\n",
       "      <td>67.602936</td>\n",
       "    </tr>\n",
       "    <tr>\n",
       "      <th>2</th>\n",
       "      <td>Air Heads</td>\n",
       "      <td>No</td>\n",
       "      <td>Yes</td>\n",
       "      <td>No</td>\n",
       "      <td>No</td>\n",
       "      <td>No</td>\n",
       "      <td>No</td>\n",
       "      <td>No</td>\n",
       "      <td>No</td>\n",
       "      <td>No</td>\n",
       "      <td>0.906</td>\n",
       "      <td>0.511</td>\n",
       "      <td>52.341465</td>\n",
       "    </tr>\n",
       "    <tr>\n",
       "      <th>3</th>\n",
       "      <td>Almond Joy</td>\n",
       "      <td>Yes</td>\n",
       "      <td>No</td>\n",
       "      <td>No</td>\n",
       "      <td>Yes</td>\n",
       "      <td>No</td>\n",
       "      <td>No</td>\n",
       "      <td>No</td>\n",
       "      <td>Yes</td>\n",
       "      <td>No</td>\n",
       "      <td>0.465</td>\n",
       "      <td>0.767</td>\n",
       "      <td>50.347546</td>\n",
       "    </tr>\n",
       "    <tr>\n",
       "      <th>4</th>\n",
       "      <td>Baby Ruth</td>\n",
       "      <td>Yes</td>\n",
       "      <td>No</td>\n",
       "      <td>Yes</td>\n",
       "      <td>Yes</td>\n",
       "      <td>Yes</td>\n",
       "      <td>No</td>\n",
       "      <td>No</td>\n",
       "      <td>Yes</td>\n",
       "      <td>No</td>\n",
       "      <td>0.604</td>\n",
       "      <td>0.767</td>\n",
       "      <td>56.914547</td>\n",
       "    </tr>\n",
       "  </tbody>\n",
       "</table>\n",
       "</div>"
      ],
      "text/plain": [
       "   competitorname chocolate fruity caramel peanutyalmondy nougat  \\\n",
       "id                                                                 \n",
       "0       100 Grand       Yes     No     Yes             No     No   \n",
       "1    3 Musketeers       Yes     No      No             No    Yes   \n",
       "2       Air Heads        No    Yes      No             No     No   \n",
       "3      Almond Joy       Yes     No      No            Yes     No   \n",
       "4       Baby Ruth       Yes     No     Yes            Yes    Yes   \n",
       "\n",
       "   crispedricewafer hard  bar pluribus  sugarpercent  pricepercent  winpercent  \n",
       "id                                                                              \n",
       "0               Yes   No  Yes       No         0.732         0.860   66.971725  \n",
       "1                No   No  Yes       No         0.604         0.511   67.602936  \n",
       "2                No   No   No       No         0.906         0.511   52.341465  \n",
       "3                No   No  Yes       No         0.465         0.767   50.347546  \n",
       "4                No   No  Yes       No         0.604         0.767   56.914547  "
      ]
     },
     "execution_count": 5,
     "metadata": {},
     "output_type": "execute_result"
    }
   ],
   "source": [
    "# Print the first five rows of the data\n",
    "candy_data.head(5) # Your code here"
   ]
  },
  {
   "cell_type": "markdown",
   "id": "48033477",
   "metadata": {
    "papermill": {
     "duration": 0.009009,
     "end_time": "2023-01-21T01:46:26.407277",
     "exception": false,
     "start_time": "2023-01-21T01:46:26.398268",
     "status": "completed"
    },
    "tags": []
   },
   "source": [
    "The dataset contains 83 rows, where each corresponds to a different candy bar.  There are 13 columns:\n",
    "- `'competitorname'` contains the name of the candy bar. \n",
    "- the next **9** columns (from `'chocolate'` to `'pluribus'`) describe the candy.  For instance, rows with chocolate candies have `\"Yes\"` in the `'chocolate'` column (and candies without chocolate have `\"No\"` in the same column).\n",
    "- `'sugarpercent'` provides some indication of the amount of sugar, where higher values signify higher sugar content.\n",
    "- `'pricepercent'` shows the price per unit, relative to the other candies in the dataset.\n",
    "- `'winpercent'` is calculated from the survey results; higher values indicate that the candy was more popular with survey respondents.\n",
    "\n",
    "Use the first five rows of the data to answer the questions below."
   ]
  },
  {
   "cell_type": "code",
   "execution_count": 6,
   "id": "e1d2b1fc",
   "metadata": {
    "execution": {
     "iopub.execute_input": "2023-01-21T01:46:26.428149Z",
     "iopub.status.busy": "2023-01-21T01:46:26.427723Z",
     "iopub.status.idle": "2023-01-21T01:46:26.442987Z",
     "shell.execute_reply": "2023-01-21T01:46:26.441924Z"
    },
    "papermill": {
     "duration": 0.028422,
     "end_time": "2023-01-21T01:46:26.445353",
     "exception": false,
     "start_time": "2023-01-21T01:46:26.416931",
     "status": "completed"
    },
    "tags": []
   },
   "outputs": [
    {
     "data": {
      "application/javascript": [
       "parent.postMessage({\"jupyterEvent\": \"custom.exercise_interaction\", \"data\": {\"outcomeType\": 1, \"valueTowardsCompletion\": 0.3333333333333333, \"interactionType\": 1, \"questionType\": 1, \"questionId\": \"2_ReviewData\", \"learnToolsVersion\": \"0.3.4\", \"failureMessage\": \"\", \"exceptionClass\": \"\", \"trace\": \"\"}}, \"*\")"
      ],
      "text/plain": [
       "<IPython.core.display.Javascript object>"
      ]
     },
     "metadata": {},
     "output_type": "display_data"
    },
    {
     "data": {
      "text/markdown": [
       "<span style=\"color:#33cc33\">Correct</span>"
      ],
      "text/plain": [
       "Correct"
      ]
     },
     "metadata": {},
     "output_type": "display_data"
    }
   ],
   "source": [
    "# Fill in the line below: Which candy was more popular with survey respondents:\n",
    "# '3 Musketeers' or 'Almond Joy'?  (Please enclose your answer in single quotes.)\n",
    "more_popular = candy_data['competitorname'][candy_data['winpercent'][(candy_data['competitorname'] == '3 Musketeers') \\\n",
    "                           | (candy_data['competitorname'] == 'Almond Joy')].idxmax()]\n",
    "\n",
    "# Fill in the line below: Which candy has higher sugar content: 'Air Heads'\n",
    "# or 'Baby Ruth'? (Please enclose your answer in single quotes.)\n",
    "more_sugar = candy_data['competitorname'][candy_data['sugarpercent'][(candy_data['competitorname'] == 'Baby Ruth') \\\n",
    "                           | (candy_data['competitorname'] == 'Air Heads')].idxmax()]\n",
    "\n",
    "# Check your answers\n",
    "step_2.check()"
   ]
  },
  {
   "cell_type": "code",
   "execution_count": 7,
   "id": "d9a79169",
   "metadata": {
    "execution": {
     "iopub.execute_input": "2023-01-21T01:46:26.466658Z",
     "iopub.status.busy": "2023-01-21T01:46:26.465824Z",
     "iopub.status.idle": "2023-01-21T01:46:26.470554Z",
     "shell.execute_reply": "2023-01-21T01:46:26.469696Z"
    },
    "papermill": {
     "duration": 0.017572,
     "end_time": "2023-01-21T01:46:26.472599",
     "exception": false,
     "start_time": "2023-01-21T01:46:26.455027",
     "status": "completed"
    },
    "tags": []
   },
   "outputs": [],
   "source": [
    "# Lines below will give you a hint or solution code\n",
    "#step_2.hint()\n",
    "#step_2.solution()"
   ]
  },
  {
   "cell_type": "markdown",
   "id": "eeccd03b",
   "metadata": {
    "papermill": {
     "duration": 0.009493,
     "end_time": "2023-01-21T01:46:26.492324",
     "exception": false,
     "start_time": "2023-01-21T01:46:26.482831",
     "status": "completed"
    },
    "tags": []
   },
   "source": [
    "## Step 3: The role of sugar\n",
    "\n",
    "Do people tend to prefer candies with higher sugar content?  \n",
    "\n",
    "#### Part A\n",
    "\n",
    "Create a scatter plot that shows the relationship between `'sugarpercent'` (on the horizontal x-axis) and `'winpercent'` (on the vertical y-axis).  _Don't add a regression line just yet -- you'll do that in the next step!_"
   ]
  },
  {
   "cell_type": "code",
   "execution_count": 8,
   "id": "e47fa771",
   "metadata": {
    "execution": {
     "iopub.execute_input": "2023-01-21T01:46:26.513638Z",
     "iopub.status.busy": "2023-01-21T01:46:26.513234Z",
     "iopub.status.idle": "2023-01-21T01:46:26.790845Z",
     "shell.execute_reply": "2023-01-21T01:46:26.789541Z"
    },
    "papermill": {
     "duration": 0.291307,
     "end_time": "2023-01-21T01:46:26.793647",
     "exception": false,
     "start_time": "2023-01-21T01:46:26.502340",
     "status": "completed"
    },
    "tags": []
   },
   "outputs": [
    {
     "data": {
      "application/javascript": [
       "parent.postMessage({\"jupyterEvent\": \"custom.exercise_interaction\", \"data\": {\"outcomeType\": 1, \"valueTowardsCompletion\": 0.3333333333333333, \"interactionType\": 1, \"questionType\": 2, \"questionId\": \"3.1_PlotBlueScatter\", \"learnToolsVersion\": \"0.3.4\", \"failureMessage\": \"\", \"exceptionClass\": \"\", \"trace\": \"\"}}, \"*\")"
      ],
      "text/plain": [
       "<IPython.core.display.Javascript object>"
      ]
     },
     "metadata": {},
     "output_type": "display_data"
    },
    {
     "data": {
      "text/markdown": [
       "<span style=\"color:#33cc33\">Correct</span>"
      ],
      "text/plain": [
       "Correct"
      ]
     },
     "metadata": {},
     "output_type": "display_data"
    },
    {
     "data": {
      "image/png": "[encoded data removed]",
      "text/plain": [
       "<Figure size 432x288 with 1 Axes>"
      ]
     },
     "metadata": {
      "needs_background": "light"
     },
     "output_type": "display_data"
    }
   ],
   "source": [
    "# Scatter plot showing the relationship between 'sugarpercent' and 'winpercent'\n",
    "sns.scatterplot(x='sugarpercent', y='winpercent', data=candy_data) # Your code here\n",
    "\n",
    "# Check your answer\n",
    "step_3.a.check()"
   ]
  },
  {
   "cell_type": "code",
   "execution_count": 9,
   "id": "4748ad3a",
   "metadata": {
    "execution": {
     "iopub.execute_input": "2023-01-21T01:46:26.816356Z",
     "iopub.status.busy": "2023-01-21T01:46:26.815929Z",
     "iopub.status.idle": "2023-01-21T01:46:26.820801Z",
     "shell.execute_reply": "2023-01-21T01:46:26.819642Z"
    },
    "papermill": {
     "duration": 0.018809,
     "end_time": "2023-01-21T01:46:26.823132",
     "exception": false,
     "start_time": "2023-01-21T01:46:26.804323",
     "status": "completed"
    },
    "tags": []
   },
   "outputs": [],
   "source": [
    "# Lines below will give you a hint or solution code\n",
    "#step_3.a.hint()\n",
    "#step_3.a.solution_plot()"
   ]
  },
  {
   "cell_type": "markdown",
   "id": "a0ca3b2d",
   "metadata": {
    "papermill": {
     "duration": 0.011385,
     "end_time": "2023-01-21T01:46:26.846388",
     "exception": false,
     "start_time": "2023-01-21T01:46:26.835003",
     "status": "completed"
    },
    "tags": []
   },
   "source": [
    "#### Part B\n",
    "\n",
    "Does the scatter plot show a **strong** correlation between the two variables?  If so, are candies with more sugar relatively more or less popular with the survey respondents?"
   ]
  },
  {
   "cell_type": "markdown",
   "id": "f3c2d52b",
   "metadata": {
    "papermill": {
     "duration": 0.014301,
     "end_time": "2023-01-21T01:46:26.875114",
     "exception": false,
     "start_time": "2023-01-21T01:46:26.860813",
     "status": "completed"
    },
    "tags": []
   },
   "source": [
    "`No correlation`"
   ]
  },
  {
   "cell_type": "code",
   "execution_count": 10,
   "id": "befa014a",
   "metadata": {
    "execution": {
     "iopub.execute_input": "2023-01-21T01:46:26.901987Z",
     "iopub.status.busy": "2023-01-21T01:46:26.901549Z",
     "iopub.status.idle": "2023-01-21T01:46:26.906477Z",
     "shell.execute_reply": "2023-01-21T01:46:26.905313Z"
    },
    "papermill": {
     "duration": 0.022718,
     "end_time": "2023-01-21T01:46:26.908858",
     "exception": false,
     "start_time": "2023-01-21T01:46:26.886140",
     "status": "completed"
    },
    "tags": []
   },
   "outputs": [],
   "source": [
    "#step_3.b.hint()"
   ]
  },
  {
   "cell_type": "code",
   "execution_count": 11,
   "id": "3ed7efc7",
   "metadata": {
    "execution": {
     "iopub.execute_input": "2023-01-21T01:46:26.931912Z",
     "iopub.status.busy": "2023-01-21T01:46:26.931202Z",
     "iopub.status.idle": "2023-01-21T01:46:26.936081Z",
     "shell.execute_reply": "2023-01-21T01:46:26.934970Z"
    },
    "papermill": {
     "duration": 0.01864,
     "end_time": "2023-01-21T01:46:26.938375",
     "exception": false,
     "start_time": "2023-01-21T01:46:26.919735",
     "status": "completed"
    },
    "tags": []
   },
   "outputs": [],
   "source": [
    "# Check your answer (Run this code cell to receive credit!)\n",
    "#step_3.b.solution()"
   ]
  },
  {
   "cell_type": "markdown",
   "id": "560f8b02",
   "metadata": {
    "papermill": {
     "duration": 0.009931,
     "end_time": "2023-01-21T01:46:26.958654",
     "exception": false,
     "start_time": "2023-01-21T01:46:26.948723",
     "status": "completed"
    },
    "tags": []
   },
   "source": [
    "## Step 4: Take a closer look\n",
    "\n",
    "#### Part A\n",
    "\n",
    "Create the same scatter plot you created in **Step 3**, but now with a regression line!"
   ]
  },
  {
   "cell_type": "code",
   "execution_count": 12,
   "id": "ec6ed633",
   "metadata": {
    "execution": {
     "iopub.execute_input": "2023-01-21T01:46:26.981488Z",
     "iopub.status.busy": "2023-01-21T01:46:26.981067Z",
     "iopub.status.idle": "2023-01-21T01:46:27.319423Z",
     "shell.execute_reply": "2023-01-21T01:46:27.318368Z"
    },
    "papermill": {
     "duration": 0.35279,
     "end_time": "2023-01-21T01:46:27.322016",
     "exception": false,
     "start_time": "2023-01-21T01:46:26.969226",
     "status": "completed"
    },
    "tags": []
   },
   "outputs": [
    {
     "data": {
      "application/javascript": [
       "parent.postMessage({\"jupyterEvent\": \"custom.exercise_interaction\", \"data\": {\"outcomeType\": 1, \"valueTowardsCompletion\": 0.3333333333333333, \"interactionType\": 1, \"questionType\": 2, \"questionId\": \"4.1_PlotBlueReg\", \"learnToolsVersion\": \"0.3.4\", \"failureMessage\": \"\", \"exceptionClass\": \"\", \"trace\": \"\"}}, \"*\")"
      ],
      "text/plain": [
       "<IPython.core.display.Javascript object>"
      ]
     },
     "metadata": {},
     "output_type": "display_data"
    },
    {
     "data": {
      "text/markdown": [
       "<span style=\"color:#33cc33\">Correct</span>"
      ],
      "text/plain": [
       "Correct"
      ]
     },
     "metadata": {},
     "output_type": "display_data"
    },
    {
     "data": {
      "image/png": "[encoded data removed]",
      "text/plain": [
       "<Figure size 432x288 with 1 Axes>"
      ]
     },
     "metadata": {
      "needs_background": "light"
     },
     "output_type": "display_data"
    }
   ],
   "source": [
    "# Scatter plot w/ regression line showing the relationship between 'sugarpercent' and 'winpercent'\n",
    "sns.regplot(x='sugarpercent', y='winpercent', data=candy_data) # Your code here\n",
    "\n",
    "# Check your answer\n",
    "step_4.a.check()"
   ]
  },
  {
   "cell_type": "code",
   "execution_count": 13,
   "id": "ba36a34f",
   "metadata": {
    "execution": {
     "iopub.execute_input": "2023-01-21T01:46:27.346953Z",
     "iopub.status.busy": "2023-01-21T01:46:27.346517Z",
     "iopub.status.idle": "2023-01-21T01:46:27.350400Z",
     "shell.execute_reply": "2023-01-21T01:46:27.349577Z"
    },
    "papermill": {
     "duration": 0.019227,
     "end_time": "2023-01-21T01:46:27.352439",
     "exception": false,
     "start_time": "2023-01-21T01:46:27.333212",
     "status": "completed"
    },
    "tags": []
   },
   "outputs": [],
   "source": [
    "# Lines below will give you a hint or solution code\n",
    "#step_4.a.hint()\n",
    "#step_4.a.solution_plot()"
   ]
  },
  {
   "cell_type": "markdown",
   "id": "b2ef2616",
   "metadata": {
    "papermill": {
     "duration": 0.010435,
     "end_time": "2023-01-21T01:46:27.374139",
     "exception": false,
     "start_time": "2023-01-21T01:46:27.363704",
     "status": "completed"
    },
    "tags": []
   },
   "source": [
    "#### Part B\n",
    "\n",
    "According to the plot above, is there a **slight** correlation between `'winpercent'` and `'sugarpercent'`?  What does this tell you about the candy that people tend to prefer?"
   ]
  },
  {
   "cell_type": "markdown",
   "id": "0a893c36",
   "metadata": {
    "papermill": {
     "duration": 0.01037,
     "end_time": "2023-01-21T01:46:27.395320",
     "exception": false,
     "start_time": "2023-01-21T01:46:27.384950",
     "status": "completed"
    },
    "tags": []
   },
   "source": [
    "`Yes`"
   ]
  },
  {
   "cell_type": "code",
   "execution_count": 14,
   "id": "f5be55e6",
   "metadata": {
    "execution": {
     "iopub.execute_input": "2023-01-21T01:46:27.419013Z",
     "iopub.status.busy": "2023-01-21T01:46:27.418069Z",
     "iopub.status.idle": "2023-01-21T01:46:27.422927Z",
     "shell.execute_reply": "2023-01-21T01:46:27.421872Z"
    },
    "papermill": {
     "duration": 0.019143,
     "end_time": "2023-01-21T01:46:27.425235",
     "exception": false,
     "start_time": "2023-01-21T01:46:27.406092",
     "status": "completed"
    },
    "tags": []
   },
   "outputs": [],
   "source": [
    "#step_4.b.hint()"
   ]
  },
  {
   "cell_type": "code",
   "execution_count": 15,
   "id": "e2eba993",
   "metadata": {
    "execution": {
     "iopub.execute_input": "2023-01-21T01:46:27.449059Z",
     "iopub.status.busy": "2023-01-21T01:46:27.448647Z",
     "iopub.status.idle": "2023-01-21T01:46:27.453372Z",
     "shell.execute_reply": "2023-01-21T01:46:27.452020Z"
    },
    "papermill": {
     "duration": 0.019445,
     "end_time": "2023-01-21T01:46:27.455781",
     "exception": false,
     "start_time": "2023-01-21T01:46:27.436336",
     "status": "completed"
    },
    "tags": []
   },
   "outputs": [],
   "source": [
    "# Check your answer (Run this code cell to receive credit!)\n",
    "#step_4.b.solution()"
   ]
  },
  {
   "cell_type": "markdown",
   "id": "a142333a",
   "metadata": {
    "papermill": {
     "duration": 0.010473,
     "end_time": "2023-01-21T01:46:27.477156",
     "exception": false,
     "start_time": "2023-01-21T01:46:27.466683",
     "status": "completed"
    },
    "tags": []
   },
   "source": [
    "## Step 5: Chocolate!\n",
    "\n",
    "In the code cell below, create a scatter plot to show the relationship between `'pricepercent'` (on the horizontal x-axis) and `'winpercent'` (on the vertical y-axis). Use the `'chocolate'` column to color-code the points.  _Don't add any regression lines just yet -- you'll do that in the next step!_"
   ]
  },
  {
   "cell_type": "code",
   "execution_count": 16,
   "id": "4415aa2b",
   "metadata": {
    "execution": {
     "iopub.execute_input": "2023-01-21T01:46:27.500507Z",
     "iopub.status.busy": "2023-01-21T01:46:27.500133Z",
     "iopub.status.idle": "2023-01-21T01:46:27.781649Z",
     "shell.execute_reply": "2023-01-21T01:46:27.780201Z"
    },
    "papermill": {
     "duration": 0.29634,
     "end_time": "2023-01-21T01:46:27.784320",
     "exception": false,
     "start_time": "2023-01-21T01:46:27.487980",
     "status": "completed"
    },
    "tags": []
   },
   "outputs": [
    {
     "data": {
      "application/javascript": [
       "parent.postMessage({\"jupyterEvent\": \"custom.exercise_interaction\", \"data\": {\"outcomeType\": 1, \"valueTowardsCompletion\": 0.3333333333333333, \"interactionType\": 1, \"questionType\": 2, \"questionId\": \"5_ColorScatter\", \"learnToolsVersion\": \"0.3.4\", \"failureMessage\": \"\", \"exceptionClass\": \"\", \"trace\": \"\"}}, \"*\")"
      ],
      "text/plain": [
       "<IPython.core.display.Javascript object>"
      ]
     },
     "metadata": {},
     "output_type": "display_data"
    },
    {
     "data": {
      "text/markdown": [
       "<span style=\"color:#33cc33\">Correct</span>"
      ],
      "text/plain": [
       "Correct"
      ]
     },
     "metadata": {},
     "output_type": "display_data"
    },
    {
     "data": {
      "image/png": "[encoded data removed]",
      "text/plain": [
       "<Figure size 432x288 with 1 Axes>"
      ]
     },
     "metadata": {
      "needs_background": "light"
     },
     "output_type": "display_data"
    }
   ],
   "source": [
    "# Scatter plot showing the relationship between 'pricepercent', 'winpercent', and 'chocolate'\n",
    "sns.scatterplot(x='sugarpercent', y='winpercent', hue='chocolate', data=candy_data) # Your code here\n",
    "\n",
    "# Check your answer\n",
    "step_5.check()"
   ]
  },
  {
   "cell_type": "code",
   "execution_count": 17,
   "id": "9eb75b26",
   "metadata": {
    "execution": {
     "iopub.execute_input": "2023-01-21T01:46:27.809872Z",
     "iopub.status.busy": "2023-01-21T01:46:27.809437Z",
     "iopub.status.idle": "2023-01-21T01:46:27.814100Z",
     "shell.execute_reply": "2023-01-21T01:46:27.813115Z"
    },
    "papermill": {
     "duration": 0.02009,
     "end_time": "2023-01-21T01:46:27.816345",
     "exception": false,
     "start_time": "2023-01-21T01:46:27.796255",
     "status": "completed"
    },
    "tags": []
   },
   "outputs": [],
   "source": [
    "# Lines below will give you a hint or solution code\n",
    "#step_5.hint()\n",
    "#step_5.solution_plot()"
   ]
  },
  {
   "cell_type": "markdown",
   "id": "d4e18ece",
   "metadata": {
    "papermill": {
     "duration": 0.012187,
     "end_time": "2023-01-21T01:46:27.841723",
     "exception": false,
     "start_time": "2023-01-21T01:46:27.829536",
     "status": "completed"
    },
    "tags": []
   },
   "source": [
    "Can you see any interesting patterns in the scatter plot?  We'll investigate this plot further  by adding regression lines in the next step!\n",
    "\n",
    "## Step 6: Investigate chocolate\n",
    "\n",
    "#### Part A\n",
    "\n",
    "Create the same scatter plot you created in **Step 5**, but now with two regression lines, corresponding to (1) chocolate candies and (2) candies without chocolate."
   ]
  },
  {
   "cell_type": "code",
   "execution_count": 18,
   "id": "89ba0396",
   "metadata": {
    "execution": {
     "iopub.execute_input": "2023-01-21T01:46:27.868156Z",
     "iopub.status.busy": "2023-01-21T01:46:27.867162Z",
     "iopub.status.idle": "2023-01-21T01:46:28.425977Z",
     "shell.execute_reply": "2023-01-21T01:46:28.424851Z"
    },
    "papermill": {
     "duration": 0.574961,
     "end_time": "2023-01-21T01:46:28.428482",
     "exception": false,
     "start_time": "2023-01-21T01:46:27.853521",
     "status": "completed"
    },
    "tags": []
   },
   "outputs": [
    {
     "data": {
      "application/javascript": [
       "parent.postMessage({\"jupyterEvent\": \"custom.exercise_interaction\", \"data\": {\"outcomeType\": 1, \"valueTowardsCompletion\": 0.3333333333333333, \"interactionType\": 1, \"questionType\": 2, \"questionId\": \"6.1_PlotColorReg\", \"learnToolsVersion\": \"0.3.4\", \"failureMessage\": \"\", \"exceptionClass\": \"\", \"trace\": \"\"}}, \"*\")"
      ],
      "text/plain": [
       "<IPython.core.display.Javascript object>"
      ]
     },
     "metadata": {},
     "output_type": "display_data"
    },
    {
     "data": {
      "text/markdown": [
       "<span style=\"color:#33cc33\">Correct</span>"
      ],
      "text/plain": [
       "Correct"
      ]
     },
     "metadata": {},
     "output_type": "display_data"
    },
    {
     "data": {
      "image/png": "[encoded data removed]",
      "text/plain": [
       "<Figure size 416.375x360 with 1 Axes>"
      ]
     },
     "metadata": {
      "needs_background": "light"
     },
     "output_type": "display_data"
    }
   ],
   "source": [
    "# Color-coded scatter plot w/ regression lines\n",
    "sns.lmplot(x='sugarpercent', y='winpercent', hue='chocolate', data=candy_data) # Your code here\n",
    "\n",
    "# Check your answer\n",
    "step_6.a.check()"
   ]
  },
  {
   "cell_type": "code",
   "execution_count": 19,
   "id": "1703a503",
   "metadata": {
    "execution": {
     "iopub.execute_input": "2023-01-21T01:46:28.455578Z",
     "iopub.status.busy": "2023-01-21T01:46:28.455152Z",
     "iopub.status.idle": "2023-01-21T01:46:28.459761Z",
     "shell.execute_reply": "2023-01-21T01:46:28.458644Z"
    },
    "papermill": {
     "duration": 0.02113,
     "end_time": "2023-01-21T01:46:28.462263",
     "exception": false,
     "start_time": "2023-01-21T01:46:28.441133",
     "status": "completed"
    },
    "tags": []
   },
   "outputs": [],
   "source": [
    "# Lines below will give you a hint or solution code\n",
    "#step_6.a.hint()\n",
    "#step_6.a.solution_plot()"
   ]
  },
  {
   "cell_type": "markdown",
   "id": "025fea2a",
   "metadata": {
    "papermill": {
     "duration": 0.012045,
     "end_time": "2023-01-21T01:46:28.486788",
     "exception": false,
     "start_time": "2023-01-21T01:46:28.474743",
     "status": "completed"
    },
    "tags": []
   },
   "source": [
    "#### Part B\n",
    "\n",
    "Using the regression lines, what conclusions can you draw about the effects of chocolate and price on candy popularity?"
   ]
  },
  {
   "cell_type": "markdown",
   "id": "086566d4",
   "metadata": {
    "papermill": {
     "duration": 0.012175,
     "end_time": "2023-01-21T01:46:28.511244",
     "exception": false,
     "start_time": "2023-01-21T01:46:28.499069",
     "status": "completed"
    },
    "tags": []
   },
   "source": [
    "`Chocolate Candies have small positave slope, this mean that Chocolate Candies with high suger are more expensive`"
   ]
  },
  {
   "cell_type": "code",
   "execution_count": 20,
   "id": "f17f6275",
   "metadata": {
    "execution": {
     "iopub.execute_input": "2023-01-21T01:46:28.537467Z",
     "iopub.status.busy": "2023-01-21T01:46:28.537036Z",
     "iopub.status.idle": "2023-01-21T01:46:28.541512Z",
     "shell.execute_reply": "2023-01-21T01:46:28.540684Z"
    },
    "papermill": {
     "duration": 0.020338,
     "end_time": "2023-01-21T01:46:28.543777",
     "exception": false,
     "start_time": "2023-01-21T01:46:28.523439",
     "status": "completed"
    },
    "tags": []
   },
   "outputs": [],
   "source": [
    "#step_6.b.hint()"
   ]
  },
  {
   "cell_type": "code",
   "execution_count": 21,
   "id": "4d21e054",
   "metadata": {
    "execution": {
     "iopub.execute_input": "2023-01-21T01:46:28.571364Z",
     "iopub.status.busy": "2023-01-21T01:46:28.570253Z",
     "iopub.status.idle": "2023-01-21T01:46:28.575106Z",
     "shell.execute_reply": "2023-01-21T01:46:28.573983Z"
    },
    "papermill": {
     "duration": 0.021276,
     "end_time": "2023-01-21T01:46:28.577572",
     "exception": false,
     "start_time": "2023-01-21T01:46:28.556296",
     "status": "completed"
    },
    "tags": []
   },
   "outputs": [],
   "source": [
    "# Check your answer (Run this code cell to receive credit!)\n",
    "#step_6.b.solution()"
   ]
  },
  {
   "cell_type": "markdown",
   "id": "2ff9096d",
   "metadata": {
    "papermill": {
     "duration": 0.012872,
     "end_time": "2023-01-21T01:46:28.603415",
     "exception": false,
     "start_time": "2023-01-21T01:46:28.590543",
     "status": "completed"
    },
    "tags": []
   },
   "source": [
    "## Step 7: Everybody loves chocolate.\n",
    "\n",
    "#### Part A\n",
    "\n",
    "Create a categorical scatter plot to highlight the relationship between `'chocolate'` and `'winpercent'`.  Put `'chocolate'` on the (horizontal) x-axis, and `'winpercent'` on the (vertical) y-axis."
   ]
  },
  {
   "cell_type": "code",
   "execution_count": 22,
   "id": "fd0ef4b6",
   "metadata": {
    "execution": {
     "iopub.execute_input": "2023-01-21T01:46:28.630628Z",
     "iopub.status.busy": "2023-01-21T01:46:28.630227Z",
     "iopub.status.idle": "2023-01-21T01:46:28.857027Z",
     "shell.execute_reply": "2023-01-21T01:46:28.855673Z"
    },
    "papermill": {
     "duration": 0.244916,
     "end_time": "2023-01-21T01:46:28.860863",
     "exception": false,
     "start_time": "2023-01-21T01:46:28.615947",
     "status": "completed"
    },
    "tags": []
   },
   "outputs": [
    {
     "data": {
      "application/javascript": [
       "parent.postMessage({\"jupyterEvent\": \"custom.exercise_interaction\", \"data\": {\"outcomeType\": 1, \"valueTowardsCompletion\": 0.3333333333333333, \"interactionType\": 1, \"questionType\": 2, \"questionId\": \"7.1_PlotSwarm\", \"learnToolsVersion\": \"0.3.4\", \"failureMessage\": \"\", \"exceptionClass\": \"\", \"trace\": \"\"}}, \"*\")"
      ],
      "text/plain": [
       "<IPython.core.display.Javascript object>"
      ]
     },
     "metadata": {},
     "output_type": "display_data"
    },
    {
     "data": {
      "text/markdown": [
       "<span style=\"color:#33cc33\">Correct</span>"
      ],
      "text/plain": [
       "Correct"
      ]
     },
     "metadata": {},
     "output_type": "display_data"
    },
    {
     "data": {
      "image/png": "[encoded data removed]",
      "text/plain": [
       "<Figure size 432x288 with 1 Axes>"
      ]
     },
     "metadata": {
      "needs_background": "light"
     },
     "output_type": "display_data"
    }
   ],
   "source": [
    "# Scatter plot showing the relationship between 'chocolate' and 'winpercent'\n",
    "sns.swarmplot(x='chocolate', y='winpercent', data=candy_data) # Your code here\n",
    "\n",
    "# Check your answer\n",
    "step_7.a.check()"
   ]
  },
  {
   "cell_type": "code",
   "execution_count": 23,
   "id": "aef25daf",
   "metadata": {
    "execution": {
     "iopub.execute_input": "2023-01-21T01:46:28.898110Z",
     "iopub.status.busy": "2023-01-21T01:46:28.897547Z",
     "iopub.status.idle": "2023-01-21T01:46:28.903547Z",
     "shell.execute_reply": "2023-01-21T01:46:28.902348Z"
    },
    "papermill": {
     "duration": 0.032192,
     "end_time": "2023-01-21T01:46:28.907682",
     "exception": false,
     "start_time": "2023-01-21T01:46:28.875490",
     "status": "completed"
    },
    "tags": []
   },
   "outputs": [],
   "source": [
    "# Lines below will give you a hint or solution code\n",
    "#step_7.a.hint()\n",
    "#step_7.a.solution_plot()"
   ]
  },
  {
   "cell_type": "markdown",
   "id": "cc4d8ebe",
   "metadata": {
    "papermill": {
     "duration": 0.014809,
     "end_time": "2023-01-21T01:46:28.941128",
     "exception": false,
     "start_time": "2023-01-21T01:46:28.926319",
     "status": "completed"
    },
    "tags": []
   },
   "source": [
    "#### Part B\n",
    "\n",
    "You decide to dedicate a section of your report to the fact that chocolate candies tend to be more popular than candies without chocolate.  Which plot is more appropriate to tell this story: the plot from **Step 6**, or the plot from **Step 7**?"
   ]
  },
  {
   "cell_type": "markdown",
   "id": "c3c25491",
   "metadata": {
    "papermill": {
     "duration": 0.014006,
     "end_time": "2023-01-21T01:46:28.968924",
     "exception": false,
     "start_time": "2023-01-21T01:46:28.954918",
     "status": "completed"
    },
    "tags": []
   },
   "source": [
    "`swarm plot is better`"
   ]
  },
  {
   "cell_type": "code",
   "execution_count": 24,
   "id": "a11621a6",
   "metadata": {
    "execution": {
     "iopub.execute_input": "2023-01-21T01:46:28.998744Z",
     "iopub.status.busy": "2023-01-21T01:46:28.998139Z",
     "iopub.status.idle": "2023-01-21T01:46:29.002012Z",
     "shell.execute_reply": "2023-01-21T01:46:29.001086Z"
    },
    "papermill": {
     "duration": 0.021791,
     "end_time": "2023-01-21T01:46:29.004411",
     "exception": false,
     "start_time": "2023-01-21T01:46:28.982620",
     "status": "completed"
    },
    "tags": []
   },
   "outputs": [],
   "source": [
    "#step_7.b.hint()"
   ]
  },
  {
   "cell_type": "code",
   "execution_count": 25,
   "id": "55a1e5c8",
   "metadata": {
    "execution": {
     "iopub.execute_input": "2023-01-21T01:46:29.034505Z",
     "iopub.status.busy": "2023-01-21T01:46:29.033855Z",
     "iopub.status.idle": "2023-01-21T01:46:29.042492Z",
     "shell.execute_reply": "2023-01-21T01:46:29.041600Z"
    },
    "papermill": {
     "duration": 0.026252,
     "end_time": "2023-01-21T01:46:29.044609",
     "exception": false,
     "start_time": "2023-01-21T01:46:29.018357",
     "status": "completed"
    },
    "tags": []
   },
   "outputs": [
    {
     "data": {
      "application/javascript": [
       "parent.postMessage({\"jupyterEvent\": \"custom.exercise_interaction\", \"data\": {\"interactionType\": 3, \"questionType\": 4, \"questionId\": \"7.2_ThinkSwarm\", \"learnToolsVersion\": \"0.3.4\", \"valueTowardsCompletion\": 0.0, \"failureMessage\": \"\", \"exceptionClass\": \"\", \"trace\": \"\", \"outcomeType\": 4}}, \"*\")"
      ],
      "text/plain": [
       "<IPython.core.display.Javascript object>"
      ]
     },
     "metadata": {},
     "output_type": "display_data"
    },
    {
     "data": {
      "text/markdown": [
       "<span style=\"color:#33cc99\">Solution:</span> In this case, the categorical scatter plot from **Step 7** is the more appropriate plot. While both plots tell the desired story, the plot from **Step 6** conveys far more information that could distract from the main point."
      ],
      "text/plain": [
       "Solution: In this case, the categorical scatter plot from **Step 7** is the more appropriate plot. While both plots tell the desired story, the plot from **Step 6** conveys far more information that could distract from the main point."
      ]
     },
     "metadata": {},
     "output_type": "display_data"
    }
   ],
   "source": [
    "# Check your answer (Run this code cell to receive credit!)\n",
    "step_7.b.solution()"
   ]
  },
  {
   "cell_type": "markdown",
   "id": "10e55460",
   "metadata": {
    "papermill": {
     "duration": 0.012909,
     "end_time": "2023-01-21T01:46:29.070692",
     "exception": false,
     "start_time": "2023-01-21T01:46:29.057783",
     "status": "completed"
    },
    "tags": []
   },
   "source": [
    "## Keep going\n",
    "\n",
    "Explore **[histograms and density plots](https://www.kaggle.com/alexisbcook/distributions)**."
   ]
  },
  {
   "cell_type": "markdown",
   "id": "bebb752e",
   "metadata": {
    "papermill": {
     "duration": 0.013214,
     "end_time": "2023-01-21T01:46:29.097558",
     "exception": false,
     "start_time": "2023-01-21T01:46:29.084344",
     "status": "completed"
    },
    "tags": []
   },
   "source": [
    "---\n",
    "\n",
    "\n",
    "\n",
    "\n",
    "*Have questions or comments? Visit the [course discussion forum](https://www.kaggle.com/learn/data-visualization/discussion) to chat with other learners.*"
   ]
  }
 ],
 "metadata": {
  "kernelspec": {
   "display_name": "Python 3",
   "language": "python",
   "name": "python3"
  },
  "language_info": {
   "codemirror_mode": {
    "name": "ipython",
    "version": 3
   },
   "file_extension": ".py",
   "mimetype": "text/x-python",
   "name": "python",
   "nbconvert_exporter": "python",
   "pygments_lexer": "ipython3",
   "version": "3.7.12"
  },
  "papermill": {
   "default_parameters": {},
   "duration": 13.30098,
   "end_time": "2023-01-21T01:46:29.832151",
   "environment_variables": {},
   "exception": null,
   "input_path": "__notebook__.ipynb",
   "output_path": "__notebook__.ipynb",
   "parameters": {},
   "start_time": "2023-01-21T01:46:16.531171",
   "version": "2.3.4"
  }
 },
 "nbformat": 4,
 "nbformat_minor": 5
}
