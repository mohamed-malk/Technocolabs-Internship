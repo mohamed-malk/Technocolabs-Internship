{
 "cells": [
  {
   "cell_type": "markdown",
   "id": "b38621b5",
   "metadata": {
    "papermill": {
     "duration": 0.007125,
     "end_time": "2023-01-20T15:12:28.450860",
     "exception": false,
     "start_time": "2023-01-20T15:12:28.443735",
     "status": "completed"
    },
    "tags": []
   },
   "source": [
    "**This notebook is an exercise in the [Data Cleaning](https://www.kaggle.com/learn/data-cleaning) course.  You can reference the tutorial at [this link](https://www.kaggle.com/alexisbcook/inconsistent-data-entry).**\n",
    "\n",
    "---\n"
   ]
  },
  {
   "cell_type": "markdown",
   "id": "447b4b7e",
   "metadata": {
    "papermill": {
     "duration": 0.005072,
     "end_time": "2023-01-20T15:12:28.461449",
     "exception": false,
     "start_time": "2023-01-20T15:12:28.456377",
     "status": "completed"
    },
    "tags": []
   },
   "source": [
    "In this exercise, you'll apply what you learned in the **Inconsistent data entry** tutorial.\n",
    "\n",
    "# Setup\n",
    "\n",
    "The questions below will give you feedback on your work. Run the following cell to set up the feedback system."
   ]
  },
  {
   "cell_type": "code",
   "execution_count": 1,
   "id": "9d878bbc",
   "metadata": {
    "execution": {
     "iopub.execute_input": "2023-01-20T15:12:28.474753Z",
     "iopub.status.busy": "2023-01-20T15:12:28.474167Z",
     "iopub.status.idle": "2023-01-20T15:12:28.697946Z",
     "shell.execute_reply": "2023-01-20T15:12:28.696387Z"
    },
    "papermill": {
     "duration": 0.233758,
     "end_time": "2023-01-20T15:12:28.700725",
     "exception": false,
     "start_time": "2023-01-20T15:12:28.466967",
     "status": "completed"
    },
    "tags": []
   },
   "outputs": [
    {
     "name": "stdout",
     "output_type": "stream",
     "text": [
      "Setup Complete\n"
     ]
    }
   ],
   "source": [
    "from learntools.core import binder\n",
    "binder.bind(globals())\n",
    "from learntools.data_cleaning.ex5 import *\n",
    "print(\"Setup Complete\")"
   ]
  },
  {
   "cell_type": "markdown",
   "id": "3cd25d84",
   "metadata": {
    "papermill": {
     "duration": 0.005675,
     "end_time": "2023-01-20T15:12:28.711930",
     "exception": false,
     "start_time": "2023-01-20T15:12:28.706255",
     "status": "completed"
    },
    "tags": []
   },
   "source": [
    "# Get our environment set up\n",
    "\n",
    "The first thing we'll need to do is load in the libraries and dataset we'll be using.  We use the same dataset from the tutorial."
   ]
  },
  {
   "cell_type": "code",
   "execution_count": 2,
   "id": "899bfb3f",
   "metadata": {
    "execution": {
     "iopub.execute_input": "2023-01-20T15:12:28.725681Z",
     "iopub.status.busy": "2023-01-20T15:12:28.725160Z",
     "iopub.status.idle": "2023-01-20T15:12:28.745729Z",
     "shell.execute_reply": "2023-01-20T15:12:28.744604Z"
    },
    "papermill": {
     "duration": 0.03123,
     "end_time": "2023-01-20T15:12:28.748698",
     "exception": false,
     "start_time": "2023-01-20T15:12:28.717468",
     "status": "completed"
    },
    "tags": []
   },
   "outputs": [],
   "source": [
    "# modules we'll use\n",
    "import pandas as pd\n",
    "import numpy as np\n",
    "\n",
    "# helpful modules\n",
    "import fuzzywuzzy\n",
    "from fuzzywuzzy import process\n",
    "import chardet\n",
    "\n",
    "# read in all our data\n",
    "professors = pd.read_csv(\"../input/pakistan-intellectual-capital/pakistan_intellectual_capital.csv\")\n",
    "\n",
    "# set seed for reproducibility\n",
    "np.random.seed(0)"
   ]
  },
  {
   "cell_type": "markdown",
   "id": "711958c0",
   "metadata": {
    "papermill": {
     "duration": 0.006601,
     "end_time": "2023-01-20T15:12:28.761540",
     "exception": false,
     "start_time": "2023-01-20T15:12:28.754939",
     "status": "completed"
    },
    "tags": []
   },
   "source": [
    "Next, we'll redo all of the work that we did in the tutorial."
   ]
  },
  {
   "cell_type": "code",
   "execution_count": 3,
   "id": "5b4b743f",
   "metadata": {
    "execution": {
     "iopub.execute_input": "2023-01-20T15:12:28.777208Z",
     "iopub.status.busy": "2023-01-20T15:12:28.776810Z",
     "iopub.status.idle": "2023-01-20T15:12:28.793575Z",
     "shell.execute_reply": "2023-01-20T15:12:28.792162Z"
    },
    "papermill": {
     "duration": 0.028706,
     "end_time": "2023-01-20T15:12:28.796725",
     "exception": false,
     "start_time": "2023-01-20T15:12:28.768019",
     "status": "completed"
    },
    "tags": []
   },
   "outputs": [
    {
     "name": "stdout",
     "output_type": "stream",
     "text": [
      "All done!\n"
     ]
    }
   ],
   "source": [
    "# convert to lower case\n",
    "professors['Country'] = professors['Country'].str.lower()\n",
    "# remove trailing white spaces\n",
    "professors['Country'] = professors['Country'].str.strip()\n",
    "\n",
    "# get the top 10 closest matches to \"south korea\"\n",
    "countries = professors['Country'].unique()\n",
    "matches = fuzzywuzzy.process.extract(\"south korea\", countries, limit=10, scorer=fuzzywuzzy.fuzz.token_sort_ratio)\n",
    "\n",
    "def replace_matches_in_column(df, column, string_to_match, min_ratio = 47):\n",
    "    # get a list of unique strings\n",
    "    strings = df[column].unique()\n",
    "    \n",
    "    # get the top 10 closest matches to our input string\n",
    "    matches = fuzzywuzzy.process.extract(string_to_match, strings, \n",
    "                                         limit=10, scorer=fuzzywuzzy.fuzz.token_sort_ratio)\n",
    "\n",
    "    # only get matches with a ratio > 90\n",
    "    close_matches = [matches[0] for matches in matches if matches[1] >= min_ratio]\n",
    "\n",
    "    # get the rows of all the close matches in our dataframe\n",
    "    rows_with_matches = df[column].isin(close_matches)\n",
    "\n",
    "    # replace all rows with close matches with the input matches \n",
    "    df.loc[rows_with_matches, column] = string_to_match\n",
    "    \n",
    "    # let us know the function's done\n",
    "    print(\"All done!\")\n",
    "    \n",
    "    return df\n",
    "    \n",
    "replace_matches_in_column(df=professors, column='Country', string_to_match=\"south korea\")\n",
    "countries = professors['Country'].unique()"
   ]
  },
  {
   "cell_type": "markdown",
   "id": "63ee0b12",
   "metadata": {
    "papermill": {
     "duration": 0.005557,
     "end_time": "2023-01-20T15:12:28.808477",
     "exception": false,
     "start_time": "2023-01-20T15:12:28.802920",
     "status": "completed"
    },
    "tags": []
   },
   "source": [
    "# 1) Examine another column\n",
    "\n",
    "Write code below to take a look at all the unique values in the \"Graduated from\" column."
   ]
  },
  {
   "cell_type": "code",
   "execution_count": 4,
   "id": "826ca66e",
   "metadata": {
    "execution": {
     "iopub.execute_input": "2023-01-20T15:12:28.823940Z",
     "iopub.status.busy": "2023-01-20T15:12:28.823238Z",
     "iopub.status.idle": "2023-01-20T15:12:28.839540Z",
     "shell.execute_reply": "2023-01-20T15:12:28.838618Z"
    },
    "papermill": {
     "duration": 0.025693,
     "end_time": "2023-01-20T15:12:28.841948",
     "exception": false,
     "start_time": "2023-01-20T15:12:28.816255",
     "status": "completed"
    },
    "tags": []
   },
   "outputs": [
    {
     "data": {
      "text/plain": [
       "0                           ASIAN INSTITUTE OF TECHNOLOGY\n",
       "1                           ASIAN INSTITUTE OF TECHNOLOGY\n",
       "2                           ASIAN INSTITUTE OF TECHNOLOGY\n",
       "3                           ASIAN INSTITUTE OF TECHNOLOGY\n",
       "4       BALOCHISTAN UNIVERSITY OF INFORMATION TECHNOLO...\n",
       "                              ...                        \n",
       "1137                                                  JNU\n",
       "1138                                             GRENOBLE\n",
       "1139                          FLORIDA ATLANTIC UNIVERSITY\n",
       "1140    GHULAM ISHAQ KHAN INSTITUTE OF SCIENCE AND TEC...\n",
       "1141                            SEOUL NATIONAL UNIVERSITY\n",
       "Name: Graduated from, Length: 1142, dtype: object"
      ]
     },
     "execution_count": 4,
     "metadata": {},
     "output_type": "execute_result"
    }
   ],
   "source": [
    "# TODO: Your code here\n",
    "professors['Graduated from'].str.upper().str.strip()"
   ]
  },
  {
   "cell_type": "markdown",
   "id": "45f75005",
   "metadata": {
    "papermill": {
     "duration": 0.005675,
     "end_time": "2023-01-20T15:12:28.854255",
     "exception": false,
     "start_time": "2023-01-20T15:12:28.848580",
     "status": "completed"
    },
    "tags": []
   },
   "source": [
    "Do you notice any inconsistencies in the data?  Can any of the inconsistencies in the data be fixed by removing white spaces at the beginning and end of cells?\n",
    "\n",
    "Once you have answered these questions, run the code cell below to get credit for your work."
   ]
  },
  {
   "cell_type": "code",
   "execution_count": 5,
   "id": "b043b5cc",
   "metadata": {
    "execution": {
     "iopub.execute_input": "2023-01-20T15:12:28.869778Z",
     "iopub.status.busy": "2023-01-20T15:12:28.869102Z",
     "iopub.status.idle": "2023-01-20T15:12:28.877762Z",
     "shell.execute_reply": "2023-01-20T15:12:28.876902Z"
    },
    "papermill": {
     "duration": 0.018202,
     "end_time": "2023-01-20T15:12:28.879950",
     "exception": false,
     "start_time": "2023-01-20T15:12:28.861748",
     "status": "completed"
    },
    "tags": []
   },
   "outputs": [
    {
     "data": {
      "application/javascript": [
       "parent.postMessage({\"jupyterEvent\": \"custom.exercise_interaction\", \"data\": {\"outcomeType\": 1, \"valueTowardsCompletion\": 0.3333333333333333, \"interactionType\": 1, \"questionType\": 4, \"questionId\": \"1_ExamineProvince\", \"learnToolsVersion\": \"0.3.4\", \"failureMessage\": \"\", \"exceptionClass\": \"\", \"trace\": \"\"}}, \"*\")"
      ],
      "text/plain": [
       "<IPython.core.display.Javascript object>"
      ]
     },
     "metadata": {},
     "output_type": "display_data"
    },
    {
     "data": {
      "text/markdown": [
       "<span style=\"color:#33cc33\">Correct:</span> \n",
       "\n",
       "There are inconsistencies that can be fixed by removing white spaces at the beginning and end of cells.  For instance, \"University of Central Florida\" and \" University of Central Florida\" both appear in the column."
      ],
      "text/plain": [
       "Correct: \n",
       "\n",
       "There are inconsistencies that can be fixed by removing white spaces at the beginning and end of cells.  For instance, \"University of Central Florida\" and \" University of Central Florida\" both appear in the column."
      ]
     },
     "metadata": {},
     "output_type": "display_data"
    }
   ],
   "source": [
    "# Check your answer (Run this code cell to receive credit!)\n",
    "q1.check()"
   ]
  },
  {
   "cell_type": "code",
   "execution_count": 6,
   "id": "64014c89",
   "metadata": {
    "execution": {
     "iopub.execute_input": "2023-01-20T15:12:28.895127Z",
     "iopub.status.busy": "2023-01-20T15:12:28.894687Z",
     "iopub.status.idle": "2023-01-20T15:12:28.899793Z",
     "shell.execute_reply": "2023-01-20T15:12:28.898597Z"
    },
    "papermill": {
     "duration": 0.015614,
     "end_time": "2023-01-20T15:12:28.902556",
     "exception": false,
     "start_time": "2023-01-20T15:12:28.886942",
     "status": "completed"
    },
    "tags": []
   },
   "outputs": [],
   "source": [
    "# Line below will give you a hint\n",
    "#q1.hint()"
   ]
  },
  {
   "cell_type": "markdown",
   "id": "43655893",
   "metadata": {
    "papermill": {
     "duration": 0.005947,
     "end_time": "2023-01-20T15:12:28.914598",
     "exception": false,
     "start_time": "2023-01-20T15:12:28.908651",
     "status": "completed"
    },
    "tags": []
   },
   "source": [
    "# 2) Do some text pre-processing\n",
    "\n",
    "Convert every entry in the \"Graduated from\" column in the `professors` DataFrame to remove white spaces at the beginning and end of cells."
   ]
  },
  {
   "cell_type": "code",
   "execution_count": 7,
   "id": "c4c11c07",
   "metadata": {
    "execution": {
     "iopub.execute_input": "2023-01-20T15:12:28.928567Z",
     "iopub.status.busy": "2023-01-20T15:12:28.928149Z",
     "iopub.status.idle": "2023-01-20T15:12:28.941237Z",
     "shell.execute_reply": "2023-01-20T15:12:28.939956Z"
    },
    "papermill": {
     "duration": 0.022985,
     "end_time": "2023-01-20T15:12:28.943616",
     "exception": false,
     "start_time": "2023-01-20T15:12:28.920631",
     "status": "completed"
    },
    "tags": []
   },
   "outputs": [
    {
     "data": {
      "application/javascript": [
       "parent.postMessage({\"jupyterEvent\": \"custom.exercise_interaction\", \"data\": {\"outcomeType\": 2, \"failureMessage\": \"Incorrect value for `professors`\", \"interactionType\": 1, \"questionType\": 1, \"questionId\": \"2_TextProcessing\", \"learnToolsVersion\": \"0.3.4\", \"valueTowardsCompletion\": 0.0, \"exceptionClass\": \"\", \"trace\": \"\"}}, \"*\")"
      ],
      "text/plain": [
       "<IPython.core.display.Javascript object>"
      ]
     },
     "metadata": {},
     "output_type": "display_data"
    },
    {
     "data": {
      "text/markdown": [
       "<span style=\"color:#cc3333\">Incorrect:</span> Incorrect value for `professors`"
      ],
      "text/plain": [
       "Incorrect: Incorrect value for `professors`"
      ]
     },
     "metadata": {},
     "output_type": "display_data"
    }
   ],
   "source": [
    "# TODO: Your code here\n",
    "professors['Graduated from'].str.strip()\n",
    "\n",
    "# Check your answer\n",
    "q2.check()"
   ]
  },
  {
   "cell_type": "code",
   "execution_count": 8,
   "id": "530c3920",
   "metadata": {
    "execution": {
     "iopub.execute_input": "2023-01-20T15:12:28.958037Z",
     "iopub.status.busy": "2023-01-20T15:12:28.957148Z",
     "iopub.status.idle": "2023-01-20T15:12:28.962297Z",
     "shell.execute_reply": "2023-01-20T15:12:28.961356Z"
    },
    "papermill": {
     "duration": 0.015264,
     "end_time": "2023-01-20T15:12:28.964913",
     "exception": false,
     "start_time": "2023-01-20T15:12:28.949649",
     "status": "completed"
    },
    "tags": []
   },
   "outputs": [],
   "source": [
    "# Lines below will give you a hint or solution code\n",
    "#q2.hint()\n",
    "#q2.solution()"
   ]
  },
  {
   "cell_type": "markdown",
   "id": "911eb7b6",
   "metadata": {
    "papermill": {
     "duration": 0.005713,
     "end_time": "2023-01-20T15:12:28.976758",
     "exception": false,
     "start_time": "2023-01-20T15:12:28.971045",
     "status": "completed"
    },
    "tags": []
   },
   "source": [
    "# 3) Continue working with countries\n",
    "\n",
    "In the tutorial, we focused on cleaning up inconsistencies in the \"Country\" column.  Run the code cell below to view the list of unique values that we ended with."
   ]
  },
  {
   "cell_type": "code",
   "execution_count": 9,
   "id": "ef003cd4",
   "metadata": {
    "execution": {
     "iopub.execute_input": "2023-01-20T15:12:28.991341Z",
     "iopub.status.busy": "2023-01-20T15:12:28.990457Z",
     "iopub.status.idle": "2023-01-20T15:12:28.998927Z",
     "shell.execute_reply": "2023-01-20T15:12:28.997844Z"
    },
    "papermill": {
     "duration": 0.01857,
     "end_time": "2023-01-20T15:12:29.001456",
     "exception": false,
     "start_time": "2023-01-20T15:12:28.982886",
     "status": "completed"
    },
    "tags": []
   },
   "outputs": [
    {
     "data": {
      "text/plain": [
       "array(['australia', 'austria', 'canada', 'china', 'finland', 'france',\n",
       "       'germany', 'greece', 'hongkong', 'ireland', 'italy', 'japan',\n",
       "       'macau', 'malaysia', 'mauritius', 'netherland', 'new zealand',\n",
       "       'norway', 'pakistan', 'portugal', 'russian federation',\n",
       "       'saudi arabia', 'scotland', 'singapore', 'south korea', 'spain',\n",
       "       'sweden', 'thailand', 'turkey', 'uk', 'urbana', 'usa', 'usofa'],\n",
       "      dtype=object)"
      ]
     },
     "execution_count": 9,
     "metadata": {},
     "output_type": "execute_result"
    }
   ],
   "source": [
    "# get all the unique values in the 'City' column\n",
    "countries = professors['Country'].unique()\n",
    "\n",
    "# sort them alphabetically and then take a closer look\n",
    "countries.sort()\n",
    "countries"
   ]
  },
  {
   "cell_type": "markdown",
   "id": "09ca9a13",
   "metadata": {
    "papermill": {
     "duration": 0.005955,
     "end_time": "2023-01-20T15:12:29.014093",
     "exception": false,
     "start_time": "2023-01-20T15:12:29.008138",
     "status": "completed"
    },
    "tags": []
   },
   "source": [
    "Take another look at the \"Country\" column and see if there's any more data cleaning we need to do.\n",
    "\n",
    "It looks like 'usa' and 'usofa' should be the same country.  Correct the \"Country\" column in the dataframe to replace 'usofa' with 'usa'.\n",
    "\n",
    "**Use the most recent version of the DataFrame (with the whitespaces at the beginning and end of cells removed) from question 2.**"
   ]
  },
  {
   "cell_type": "code",
   "execution_count": 10,
   "id": "4fdced48",
   "metadata": {
    "execution": {
     "iopub.execute_input": "2023-01-20T15:12:29.029045Z",
     "iopub.status.busy": "2023-01-20T15:12:29.028218Z",
     "iopub.status.idle": "2023-01-20T15:12:29.038154Z",
     "shell.execute_reply": "2023-01-20T15:12:29.036779Z"
    },
    "papermill": {
     "duration": 0.02046,
     "end_time": "2023-01-20T15:12:29.040798",
     "exception": false,
     "start_time": "2023-01-20T15:12:29.020338",
     "status": "completed"
    },
    "tags": []
   },
   "outputs": [
    {
     "data": {
      "text/plain": [
       "[('usa', 100),\n",
       " ('usofa', 75),\n",
       " ('austria', 60),\n",
       " ('australia', 50),\n",
       " ('spain', 50),\n",
       " ('urbana', 44),\n",
       " ('uk', 40),\n",
       " ('malaysia', 36),\n",
       " ('pakistan', 36),\n",
       " ('portugal', 36)]"
      ]
     },
     "execution_count": 10,
     "metadata": {},
     "output_type": "execute_result"
    }
   ],
   "source": [
    "fuzzywuzzy.process.extract(\"usa\", countries, limit=10, scorer=fuzzywuzzy.fuzz.token_sort_ratio)"
   ]
  },
  {
   "cell_type": "code",
   "execution_count": 11,
   "id": "f4e10704",
   "metadata": {
    "execution": {
     "iopub.execute_input": "2023-01-20T15:12:29.055607Z",
     "iopub.status.busy": "2023-01-20T15:12:29.055165Z",
     "iopub.status.idle": "2023-01-20T15:12:29.067566Z",
     "shell.execute_reply": "2023-01-20T15:12:29.066701Z"
    },
    "papermill": {
     "duration": 0.022467,
     "end_time": "2023-01-20T15:12:29.069698",
     "exception": false,
     "start_time": "2023-01-20T15:12:29.047231",
     "status": "completed"
    },
    "tags": []
   },
   "outputs": [
    {
     "name": "stdout",
     "output_type": "stream",
     "text": [
      "All done!\n"
     ]
    },
    {
     "data": {
      "application/javascript": [
       "parent.postMessage({\"jupyterEvent\": \"custom.exercise_interaction\", \"data\": {\"outcomeType\": 2, \"failureMessage\": \"Incorrect value for `professors`\", \"interactionType\": 1, \"questionType\": 1, \"questionId\": \"3_WorkingWithCities\", \"learnToolsVersion\": \"0.3.4\", \"valueTowardsCompletion\": 0.0, \"exceptionClass\": \"\", \"trace\": \"\"}}, \"*\")"
      ],
      "text/plain": [
       "<IPython.core.display.Javascript object>"
      ]
     },
     "metadata": {},
     "output_type": "display_data"
    },
    {
     "data": {
      "text/markdown": [
       "<span style=\"color:#cc3333\">Incorrect:</span> Incorrect value for `professors`"
      ],
      "text/plain": [
       "Incorrect: Incorrect value for `professors`"
      ]
     },
     "metadata": {},
     "output_type": "display_data"
    }
   ],
   "source": [
    "# TODO: Your code here!\n",
    "replace_matches_in_column(professors, 'Country', 'usa')\n",
    "\n",
    "# Check your answer\n",
    "q3.check()"
   ]
  },
  {
   "cell_type": "code",
   "execution_count": 12,
   "id": "b77cf3ff",
   "metadata": {
    "execution": {
     "iopub.execute_input": "2023-01-20T15:12:29.084823Z",
     "iopub.status.busy": "2023-01-20T15:12:29.084118Z",
     "iopub.status.idle": "2023-01-20T15:12:29.088523Z",
     "shell.execute_reply": "2023-01-20T15:12:29.087618Z"
    },
    "papermill": {
     "duration": 0.014473,
     "end_time": "2023-01-20T15:12:29.090708",
     "exception": false,
     "start_time": "2023-01-20T15:12:29.076235",
     "status": "completed"
    },
    "tags": []
   },
   "outputs": [],
   "source": [
    "# Lines below will give you a hint or solution code\n",
    "#q3.hint()\n",
    "#q3.solution()"
   ]
  },
  {
   "cell_type": "markdown",
   "id": "e6d4acf2",
   "metadata": {
    "papermill": {
     "duration": 0.006288,
     "end_time": "2023-01-20T15:12:29.103637",
     "exception": false,
     "start_time": "2023-01-20T15:12:29.097349",
     "status": "completed"
    },
    "tags": []
   },
   "source": [
    "# Congratulations!\n",
    "\n",
    "Congratulations for completing the **Data Cleaning** course on Kaggle Learn!\n",
    "\n",
    "To practice your new skills, you're encouraged to download and investigate some of [Kaggle's Datasets](https://www.kaggle.com/datasets)."
   ]
  },
  {
   "cell_type": "markdown",
   "id": "b21e1609",
   "metadata": {
    "papermill": {
     "duration": 0.006628,
     "end_time": "2023-01-20T15:12:29.116834",
     "exception": false,
     "start_time": "2023-01-20T15:12:29.110206",
     "status": "completed"
    },
    "tags": []
   },
   "source": [
    "---\n",
    "\n",
    "\n",
    "\n",
    "\n",
    "*Have questions or comments? Visit the [course discussion forum](https://www.kaggle.com/learn/data-cleaning/discussion) to chat with other learners.*"
   ]
  }
 ],
 "metadata": {
  "kernelspec": {
   "display_name": "Python 3",
   "language": "python",
   "name": "python3"
  },
  "language_info": {
   "codemirror_mode": {
    "name": "ipython",
    "version": 3
   },
   "file_extension": ".py",
   "mimetype": "text/x-python",
   "name": "python",
   "nbconvert_exporter": "python",
   "pygments_lexer": "ipython3",
   "version": "3.7.12"
  },
  "papermill": {
   "default_parameters": {},
   "duration": 11.096321,
   "end_time": "2023-01-20T15:12:29.846121",
   "environment_variables": {},
   "exception": null,
   "input_path": "__notebook__.ipynb",
   "output_path": "__notebook__.ipynb",
   "parameters": {},
   "start_time": "2023-01-20T15:12:18.749800",
   "version": "2.3.4"
  }
 },
 "nbformat": 4,
 "nbformat_minor": 5
}
