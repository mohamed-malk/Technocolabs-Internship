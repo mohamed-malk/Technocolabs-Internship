{
 "cells": [
  {
   "cell_type": "markdown",
   "id": "806e4cfd",
   "metadata": {
    "papermill": {
     "duration": 0.008137,
     "end_time": "2023-01-25T04:17:48.740153",
     "exception": false,
     "start_time": "2023-01-25T04:17:48.732016",
     "status": "completed"
    },
    "tags": []
   },
   "source": [
    "**This notebook is an exercise in the [Pandas](https://www.kaggle.com/learn/pandas) course.  You can reference the tutorial at [this link](https://www.kaggle.com/residentmario/summary-functions-and-maps).**\n",
    "\n",
    "---\n"
   ]
  },
  {
   "cell_type": "markdown",
   "id": "f888edc0",
   "metadata": {
    "papermill": {
     "duration": 0.006553,
     "end_time": "2023-01-25T04:17:48.754228",
     "exception": false,
     "start_time": "2023-01-25T04:17:48.747675",
     "status": "completed"
    },
    "tags": []
   },
   "source": [
    "# Introduction\n",
    "\n",
    "Now you are ready to get a deeper understanding of your data.\n",
    "\n",
    "Run the following cell to load your data and some utility functions (including code to check your answers)."
   ]
  },
  {
   "cell_type": "code",
   "execution_count": 1,
   "id": "ed1cde00",
   "metadata": {
    "execution": {
     "iopub.execute_input": "2023-01-25T04:17:48.770533Z",
     "iopub.status.busy": "2023-01-25T04:17:48.769388Z",
     "iopub.status.idle": "2023-01-25T04:17:55.946405Z",
     "shell.execute_reply": "2023-01-25T04:17:55.945524Z"
    },
    "papermill": {
     "duration": 7.190039,
     "end_time": "2023-01-25T04:17:55.951056",
     "exception": false,
     "start_time": "2023-01-25T04:17:48.761017",
     "status": "completed"
    },
    "tags": []
   },
   "outputs": [
    {
     "name": "stdout",
     "output_type": "stream",
     "text": [
      "Setup complete.\n"
     ]
    },
    {
     "data": {
      "text/html": [
       "<div>\n",
       "<style scoped>\n",
       "    .dataframe tbody tr th:only-of-type {\n",
       "        vertical-align: middle;\n",
       "    }\n",
       "\n",
       "    .dataframe tbody tr th {\n",
       "        vertical-align: top;\n",
       "    }\n",
       "\n",
       "    .dataframe thead th {\n",
       "        text-align: right;\n",
       "    }\n",
       "</style>\n",
       "<table border=\"1\" class=\"dataframe\">\n",
       "  <thead>\n",
       "    <tr style=\"text-align: right;\">\n",
       "      <th></th>\n",
       "      <th>country</th>\n",
       "      <th>description</th>\n",
       "      <th>designation</th>\n",
       "      <th>points</th>\n",
       "      <th>price</th>\n",
       "      <th>province</th>\n",
       "      <th>region_1</th>\n",
       "      <th>region_2</th>\n",
       "      <th>taster_name</th>\n",
       "      <th>taster_twitter_handle</th>\n",
       "      <th>title</th>\n",
       "      <th>variety</th>\n",
       "      <th>winery</th>\n",
       "    </tr>\n",
       "  </thead>\n",
       "  <tbody>\n",
       "    <tr>\n",
       "      <th>0</th>\n",
       "      <td>Italy</td>\n",
       "      <td>Aromas include tropical fruit, broom, brimston...</td>\n",
       "      <td>Vulkà Bianco</td>\n",
       "      <td>87</td>\n",
       "      <td>NaN</td>\n",
       "      <td>Sicily &amp; Sardinia</td>\n",
       "      <td>Etna</td>\n",
       "      <td>NaN</td>\n",
       "      <td>Kerin O’Keefe</td>\n",
       "      <td>@kerinokeefe</td>\n",
       "      <td>Nicosia 2013 Vulkà Bianco  (Etna)</td>\n",
       "      <td>White Blend</td>\n",
       "      <td>Nicosia</td>\n",
       "    </tr>\n",
       "    <tr>\n",
       "      <th>1</th>\n",
       "      <td>Portugal</td>\n",
       "      <td>This is ripe and fruity, a wine that is smooth...</td>\n",
       "      <td>Avidagos</td>\n",
       "      <td>87</td>\n",
       "      <td>15.0</td>\n",
       "      <td>Douro</td>\n",
       "      <td>NaN</td>\n",
       "      <td>NaN</td>\n",
       "      <td>Roger Voss</td>\n",
       "      <td>@vossroger</td>\n",
       "      <td>Quinta dos Avidagos 2011 Avidagos Red (Douro)</td>\n",
       "      <td>Portuguese Red</td>\n",
       "      <td>Quinta dos Avidagos</td>\n",
       "    </tr>\n",
       "    <tr>\n",
       "      <th>2</th>\n",
       "      <td>US</td>\n",
       "      <td>Tart and snappy, the flavors of lime flesh and...</td>\n",
       "      <td>NaN</td>\n",
       "      <td>87</td>\n",
       "      <td>14.0</td>\n",
       "      <td>Oregon</td>\n",
       "      <td>Willamette Valley</td>\n",
       "      <td>Willamette Valley</td>\n",
       "      <td>Paul Gregutt</td>\n",
       "      <td>@paulgwine</td>\n",
       "      <td>Rainstorm 2013 Pinot Gris (Willamette Valley)</td>\n",
       "      <td>Pinot Gris</td>\n",
       "      <td>Rainstorm</td>\n",
       "    </tr>\n",
       "    <tr>\n",
       "      <th>3</th>\n",
       "      <td>US</td>\n",
       "      <td>Pineapple rind, lemon pith and orange blossom ...</td>\n",
       "      <td>Reserve Late Harvest</td>\n",
       "      <td>87</td>\n",
       "      <td>13.0</td>\n",
       "      <td>Michigan</td>\n",
       "      <td>Lake Michigan Shore</td>\n",
       "      <td>NaN</td>\n",
       "      <td>Alexander Peartree</td>\n",
       "      <td>NaN</td>\n",
       "      <td>St. Julian 2013 Reserve Late Harvest Riesling ...</td>\n",
       "      <td>Riesling</td>\n",
       "      <td>St. Julian</td>\n",
       "    </tr>\n",
       "    <tr>\n",
       "      <th>4</th>\n",
       "      <td>US</td>\n",
       "      <td>Much like the regular bottling from 2012, this...</td>\n",
       "      <td>Vintner's Reserve Wild Child Block</td>\n",
       "      <td>87</td>\n",
       "      <td>65.0</td>\n",
       "      <td>Oregon</td>\n",
       "      <td>Willamette Valley</td>\n",
       "      <td>Willamette Valley</td>\n",
       "      <td>Paul Gregutt</td>\n",
       "      <td>@paulgwine</td>\n",
       "      <td>Sweet Cheeks 2012 Vintner's Reserve Wild Child...</td>\n",
       "      <td>Pinot Noir</td>\n",
       "      <td>Sweet Cheeks</td>\n",
       "    </tr>\n",
       "  </tbody>\n",
       "</table>\n",
       "</div>"
      ],
      "text/plain": [
       "    country                                        description  \\\n",
       "0     Italy  Aromas include tropical fruit, broom, brimston...   \n",
       "1  Portugal  This is ripe and fruity, a wine that is smooth...   \n",
       "2        US  Tart and snappy, the flavors of lime flesh and...   \n",
       "3        US  Pineapple rind, lemon pith and orange blossom ...   \n",
       "4        US  Much like the regular bottling from 2012, this...   \n",
       "\n",
       "                          designation  points  price           province  \\\n",
       "0                        Vulkà Bianco      87    NaN  Sicily & Sardinia   \n",
       "1                            Avidagos      87   15.0              Douro   \n",
       "2                                 NaN      87   14.0             Oregon   \n",
       "3                Reserve Late Harvest      87   13.0           Michigan   \n",
       "4  Vintner's Reserve Wild Child Block      87   65.0             Oregon   \n",
       "\n",
       "              region_1           region_2         taster_name  \\\n",
       "0                 Etna                NaN       Kerin O’Keefe   \n",
       "1                  NaN                NaN          Roger Voss   \n",
       "2    Willamette Valley  Willamette Valley        Paul Gregutt   \n",
       "3  Lake Michigan Shore                NaN  Alexander Peartree   \n",
       "4    Willamette Valley  Willamette Valley        Paul Gregutt   \n",
       "\n",
       "  taster_twitter_handle                                              title  \\\n",
       "0          @kerinokeefe                  Nicosia 2013 Vulkà Bianco  (Etna)   \n",
       "1            @vossroger      Quinta dos Avidagos 2011 Avidagos Red (Douro)   \n",
       "2           @paulgwine       Rainstorm 2013 Pinot Gris (Willamette Valley)   \n",
       "3                   NaN  St. Julian 2013 Reserve Late Harvest Riesling ...   \n",
       "4           @paulgwine   Sweet Cheeks 2012 Vintner's Reserve Wild Child...   \n",
       "\n",
       "          variety               winery  \n",
       "0     White Blend              Nicosia  \n",
       "1  Portuguese Red  Quinta dos Avidagos  \n",
       "2      Pinot Gris            Rainstorm  \n",
       "3        Riesling           St. Julian  \n",
       "4      Pinot Noir         Sweet Cheeks  "
      ]
     },
     "execution_count": 1,
     "metadata": {},
     "output_type": "execute_result"
    }
   ],
   "source": [
    "import pandas as pd\n",
    "pd.set_option(\"display.max_rows\", 5)\n",
    "reviews = pd.read_csv(\"../input/wine-reviews/winemag-data-130k-v2.csv\", index_col=0)\n",
    "\n",
    "from learntools.core import binder; binder.bind(globals())\n",
    "from learntools.pandas.summary_functions_and_maps import *\n",
    "print(\"Setup complete.\")\n",
    "\n",
    "reviews.head()"
   ]
  },
  {
   "cell_type": "markdown",
   "id": "3f2dc4c7",
   "metadata": {
    "papermill": {
     "duration": 0.008402,
     "end_time": "2023-01-25T04:17:55.967376",
     "exception": false,
     "start_time": "2023-01-25T04:17:55.958974",
     "status": "completed"
    },
    "tags": []
   },
   "source": [
    "# Exercises"
   ]
  },
  {
   "cell_type": "markdown",
   "id": "095ee9e5",
   "metadata": {
    "papermill": {
     "duration": 0.006911,
     "end_time": "2023-01-25T04:17:55.981812",
     "exception": false,
     "start_time": "2023-01-25T04:17:55.974901",
     "status": "completed"
    },
    "tags": []
   },
   "source": [
    "## 1.\n",
    "\n",
    "What is the median of the `points` column in the `reviews` DataFrame?"
   ]
  },
  {
   "cell_type": "code",
   "execution_count": 2,
   "id": "455ebf64",
   "metadata": {
    "execution": {
     "iopub.execute_input": "2023-01-25T04:17:56.000340Z",
     "iopub.status.busy": "2023-01-25T04:17:55.999518Z",
     "iopub.status.idle": "2023-01-25T04:17:56.012947Z",
     "shell.execute_reply": "2023-01-25T04:17:56.011958Z"
    },
    "papermill": {
     "duration": 0.025879,
     "end_time": "2023-01-25T04:17:56.015460",
     "exception": false,
     "start_time": "2023-01-25T04:17:55.989581",
     "status": "completed"
    },
    "tags": []
   },
   "outputs": [
    {
     "data": {
      "application/javascript": [
       "parent.postMessage({\"jupyterEvent\": \"custom.exercise_interaction\", \"data\": {\"outcomeType\": 1, \"valueTowardsCompletion\": 0.14285714285714285, \"interactionType\": 1, \"questionType\": 1, \"questionId\": \"1_MedianPoints\", \"learnToolsVersion\": \"0.3.4\", \"failureMessage\": \"\", \"exceptionClass\": \"\", \"trace\": \"\"}}, \"*\")"
      ],
      "text/plain": [
       "<IPython.core.display.Javascript object>"
      ]
     },
     "metadata": {},
     "output_type": "display_data"
    },
    {
     "data": {
      "text/markdown": [
       "<span style=\"color:#33cc33\">Correct</span>"
      ],
      "text/plain": [
       "Correct"
      ]
     },
     "metadata": {},
     "output_type": "display_data"
    }
   ],
   "source": [
    "median_points = reviews.points.median()\n",
    "\n",
    "# Check your answer\n",
    "q1.check()"
   ]
  },
  {
   "cell_type": "code",
   "execution_count": 3,
   "id": "5797db9a",
   "metadata": {
    "execution": {
     "iopub.execute_input": "2023-01-25T04:17:56.033099Z",
     "iopub.status.busy": "2023-01-25T04:17:56.032054Z",
     "iopub.status.idle": "2023-01-25T04:17:56.037746Z",
     "shell.execute_reply": "2023-01-25T04:17:56.036373Z"
    },
    "papermill": {
     "duration": 0.017496,
     "end_time": "2023-01-25T04:17:56.040301",
     "exception": false,
     "start_time": "2023-01-25T04:17:56.022805",
     "status": "completed"
    },
    "tags": []
   },
   "outputs": [],
   "source": [
    "#q1.hint()\n",
    "#q1.solution()"
   ]
  },
  {
   "cell_type": "markdown",
   "id": "40b12c41",
   "metadata": {
    "papermill": {
     "duration": 0.007757,
     "end_time": "2023-01-25T04:17:56.055643",
     "exception": false,
     "start_time": "2023-01-25T04:17:56.047886",
     "status": "completed"
    },
    "tags": []
   },
   "source": [
    "## 2. \n",
    "What countries are represented in the dataset? (Your answer should not include any duplicates.)"
   ]
  },
  {
   "cell_type": "code",
   "execution_count": 4,
   "id": "78f3eb84",
   "metadata": {
    "execution": {
     "iopub.execute_input": "2023-01-25T04:17:56.074536Z",
     "iopub.status.busy": "2023-01-25T04:17:56.073715Z",
     "iopub.status.idle": "2023-01-25T04:17:56.091121Z",
     "shell.execute_reply": "2023-01-25T04:17:56.089352Z"
    },
    "papermill": {
     "duration": 0.030953,
     "end_time": "2023-01-25T04:17:56.094311",
     "exception": false,
     "start_time": "2023-01-25T04:17:56.063358",
     "status": "completed"
    },
    "tags": []
   },
   "outputs": [
    {
     "data": {
      "application/javascript": [
       "parent.postMessage({\"jupyterEvent\": \"custom.exercise_interaction\", \"data\": {\"outcomeType\": 1, \"valueTowardsCompletion\": 0.14285714285714285, \"interactionType\": 1, \"questionType\": 2, \"questionId\": \"2_UniqueCountries\", \"learnToolsVersion\": \"0.3.4\", \"failureMessage\": \"\", \"exceptionClass\": \"\", \"trace\": \"\"}}, \"*\")"
      ],
      "text/plain": [
       "<IPython.core.display.Javascript object>"
      ]
     },
     "metadata": {},
     "output_type": "display_data"
    },
    {
     "data": {
      "text/markdown": [
       "<span style=\"color:#33cc33\">Correct</span>"
      ],
      "text/plain": [
       "Correct"
      ]
     },
     "metadata": {},
     "output_type": "display_data"
    }
   ],
   "source": [
    "countries = reviews.country.unique()\n",
    "\n",
    "# Check your answer\n",
    "q2.check()"
   ]
  },
  {
   "cell_type": "code",
   "execution_count": 5,
   "id": "6e58963b",
   "metadata": {
    "execution": {
     "iopub.execute_input": "2023-01-25T04:17:56.113767Z",
     "iopub.status.busy": "2023-01-25T04:17:56.112866Z",
     "iopub.status.idle": "2023-01-25T04:17:56.119071Z",
     "shell.execute_reply": "2023-01-25T04:17:56.117676Z"
    },
    "papermill": {
     "duration": 0.019319,
     "end_time": "2023-01-25T04:17:56.122004",
     "exception": false,
     "start_time": "2023-01-25T04:17:56.102685",
     "status": "completed"
    },
    "tags": []
   },
   "outputs": [],
   "source": [
    "#q2.hint()\n",
    "#q2.solution()"
   ]
  },
  {
   "cell_type": "markdown",
   "id": "f5ea7c6a",
   "metadata": {
    "papermill": {
     "duration": 0.008507,
     "end_time": "2023-01-25T04:17:56.139135",
     "exception": false,
     "start_time": "2023-01-25T04:17:56.130628",
     "status": "completed"
    },
    "tags": []
   },
   "source": [
    "## 3.\n",
    "How often does each country appear in the dataset? Create a Series `reviews_per_country` mapping countries to the count of reviews of wines from that country."
   ]
  },
  {
   "cell_type": "code",
   "execution_count": 6,
   "id": "83657be7",
   "metadata": {
    "execution": {
     "iopub.execute_input": "2023-01-25T04:17:56.157735Z",
     "iopub.status.busy": "2023-01-25T04:17:56.157203Z",
     "iopub.status.idle": "2023-01-25T04:17:56.177569Z",
     "shell.execute_reply": "2023-01-25T04:17:56.176220Z"
    },
    "papermill": {
     "duration": 0.032741,
     "end_time": "2023-01-25T04:17:56.179909",
     "exception": false,
     "start_time": "2023-01-25T04:17:56.147168",
     "status": "completed"
    },
    "tags": []
   },
   "outputs": [
    {
     "data": {
      "application/javascript": [
       "parent.postMessage({\"jupyterEvent\": \"custom.exercise_interaction\", \"data\": {\"outcomeType\": 1, \"valueTowardsCompletion\": 0.14285714285714285, \"interactionType\": 1, \"questionType\": 1, \"questionId\": \"3_ReviewsPerCountry\", \"learnToolsVersion\": \"0.3.4\", \"failureMessage\": \"\", \"exceptionClass\": \"\", \"trace\": \"\"}}, \"*\")"
      ],
      "text/plain": [
       "<IPython.core.display.Javascript object>"
      ]
     },
     "metadata": {},
     "output_type": "display_data"
    },
    {
     "data": {
      "text/markdown": [
       "<span style=\"color:#33cc33\">Correct</span>"
      ],
      "text/plain": [
       "Correct"
      ]
     },
     "metadata": {},
     "output_type": "display_data"
    }
   ],
   "source": [
    "reviews_per_country = reviews.country.value_counts()\n",
    "\n",
    "# Check your answer\n",
    "q3.check()"
   ]
  },
  {
   "cell_type": "code",
   "execution_count": 7,
   "id": "0e705494",
   "metadata": {
    "execution": {
     "iopub.execute_input": "2023-01-25T04:17:56.199168Z",
     "iopub.status.busy": "2023-01-25T04:17:56.198311Z",
     "iopub.status.idle": "2023-01-25T04:17:56.203312Z",
     "shell.execute_reply": "2023-01-25T04:17:56.202342Z"
    },
    "papermill": {
     "duration": 0.017954,
     "end_time": "2023-01-25T04:17:56.206003",
     "exception": false,
     "start_time": "2023-01-25T04:17:56.188049",
     "status": "completed"
    },
    "tags": []
   },
   "outputs": [],
   "source": [
    "#q3.hint()\n",
    "#q3.solution()"
   ]
  },
  {
   "cell_type": "markdown",
   "id": "0e3ad2ea",
   "metadata": {
    "papermill": {
     "duration": 0.007302,
     "end_time": "2023-01-25T04:17:56.221118",
     "exception": false,
     "start_time": "2023-01-25T04:17:56.213816",
     "status": "completed"
    },
    "tags": []
   },
   "source": [
    "## 4.\n",
    "Create variable `centered_price` containing a version of the `price` column with the mean price subtracted.\n",
    "\n",
    "(Note: this 'centering' transformation is a common preprocessing step before applying various machine learning algorithms.) "
   ]
  },
  {
   "cell_type": "code",
   "execution_count": 8,
   "id": "c48ae9c2",
   "metadata": {
    "execution": {
     "iopub.execute_input": "2023-01-25T04:17:56.239911Z",
     "iopub.status.busy": "2023-01-25T04:17:56.239148Z",
     "iopub.status.idle": "2023-01-25T04:17:56.250040Z",
     "shell.execute_reply": "2023-01-25T04:17:56.249069Z"
    },
    "papermill": {
     "duration": 0.022751,
     "end_time": "2023-01-25T04:17:56.252307",
     "exception": false,
     "start_time": "2023-01-25T04:17:56.229556",
     "status": "completed"
    },
    "tags": []
   },
   "outputs": [
    {
     "data": {
      "application/javascript": [
       "parent.postMessage({\"jupyterEvent\": \"custom.exercise_interaction\", \"data\": {\"outcomeType\": 1, \"valueTowardsCompletion\": 0.14285714285714285, \"interactionType\": 1, \"questionType\": 1, \"questionId\": \"4_CenteredPrice\", \"learnToolsVersion\": \"0.3.4\", \"failureMessage\": \"\", \"exceptionClass\": \"\", \"trace\": \"\"}}, \"*\")"
      ],
      "text/plain": [
       "<IPython.core.display.Javascript object>"
      ]
     },
     "metadata": {},
     "output_type": "display_data"
    },
    {
     "data": {
      "text/markdown": [
       "<span style=\"color:#33cc33\">Correct</span>"
      ],
      "text/plain": [
       "Correct"
      ]
     },
     "metadata": {},
     "output_type": "display_data"
    }
   ],
   "source": [
    "centered_price = reviews.price - reviews.price.mean()\n",
    "\n",
    "# Check your answer\n",
    "q4.check()"
   ]
  },
  {
   "cell_type": "code",
   "execution_count": 9,
   "id": "f23ac14a",
   "metadata": {
    "execution": {
     "iopub.execute_input": "2023-01-25T04:17:56.272282Z",
     "iopub.status.busy": "2023-01-25T04:17:56.271510Z",
     "iopub.status.idle": "2023-01-25T04:17:56.275933Z",
     "shell.execute_reply": "2023-01-25T04:17:56.274856Z"
    },
    "papermill": {
     "duration": 0.017313,
     "end_time": "2023-01-25T04:17:56.278363",
     "exception": false,
     "start_time": "2023-01-25T04:17:56.261050",
     "status": "completed"
    },
    "tags": []
   },
   "outputs": [],
   "source": [
    "#q4.hint()\n",
    "#q4.solution()"
   ]
  },
  {
   "cell_type": "markdown",
   "id": "a652a2f7",
   "metadata": {
    "papermill": {
     "duration": 0.007697,
     "end_time": "2023-01-25T04:17:56.293981",
     "exception": false,
     "start_time": "2023-01-25T04:17:56.286284",
     "status": "completed"
    },
    "tags": []
   },
   "source": [
    "## 5.\n",
    "I'm an economical wine buyer. Which wine is the \"best bargain\"? Create a variable `bargain_wine` with the title of the wine with the highest points-to-price ratio in the dataset."
   ]
  },
  {
   "cell_type": "code",
   "execution_count": 10,
   "id": "63cefc24",
   "metadata": {
    "execution": {
     "iopub.execute_input": "2023-01-25T04:17:56.313036Z",
     "iopub.status.busy": "2023-01-25T04:17:56.312033Z",
     "iopub.status.idle": "2023-01-25T04:17:56.328951Z",
     "shell.execute_reply": "2023-01-25T04:17:56.327491Z"
    },
    "papermill": {
     "duration": 0.029779,
     "end_time": "2023-01-25T04:17:56.332076",
     "exception": false,
     "start_time": "2023-01-25T04:17:56.302297",
     "status": "completed"
    },
    "tags": []
   },
   "outputs": [
    {
     "data": {
      "application/javascript": [
       "parent.postMessage({\"jupyterEvent\": \"custom.exercise_interaction\", \"data\": {\"outcomeType\": 1, \"valueTowardsCompletion\": 0.14285714285714285, \"interactionType\": 1, \"questionType\": 2, \"questionId\": \"5_BargainWine\", \"learnToolsVersion\": \"0.3.4\", \"failureMessage\": \"\", \"exceptionClass\": \"\", \"trace\": \"\"}}, \"*\")"
      ],
      "text/plain": [
       "<IPython.core.display.Javascript object>"
      ]
     },
     "metadata": {},
     "output_type": "display_data"
    },
    {
     "data": {
      "text/markdown": [
       "<span style=\"color:#33cc33\">Correct</span>"
      ],
      "text/plain": [
       "Correct"
      ]
     },
     "metadata": {},
     "output_type": "display_data"
    }
   ],
   "source": [
    "bargain_wine = reviews.title[(reviews.points / reviews.price).idxmax()]\n",
    "\n",
    "# Check your answer\n",
    "q5.check()"
   ]
  },
  {
   "cell_type": "code",
   "execution_count": 11,
   "id": "b7e8b996",
   "metadata": {
    "execution": {
     "iopub.execute_input": "2023-01-25T04:17:56.352581Z",
     "iopub.status.busy": "2023-01-25T04:17:56.351696Z",
     "iopub.status.idle": "2023-01-25T04:17:56.356966Z",
     "shell.execute_reply": "2023-01-25T04:17:56.355810Z"
    },
    "papermill": {
     "duration": 0.018885,
     "end_time": "2023-01-25T04:17:56.359545",
     "exception": false,
     "start_time": "2023-01-25T04:17:56.340660",
     "status": "completed"
    },
    "tags": []
   },
   "outputs": [],
   "source": [
    "#q5.hint()\n",
    "#q5.solution()"
   ]
  },
  {
   "cell_type": "markdown",
   "id": "7be408e1",
   "metadata": {
    "papermill": {
     "duration": 0.008119,
     "end_time": "2023-01-25T04:17:56.376296",
     "exception": false,
     "start_time": "2023-01-25T04:17:56.368177",
     "status": "completed"
    },
    "tags": []
   },
   "source": [
    "## 6.\n",
    "There are only so many words you can use when describing a bottle of wine. Is a wine more likely to be \"tropical\" or \"fruity\"? Create a Series `descriptor_counts` counting how many times each of these two words appears in the `description` column in the dataset. (For simplicity, let's ignore the capitalized versions of these words.)"
   ]
  },
  {
   "cell_type": "code",
   "execution_count": 12,
   "id": "22b48b38",
   "metadata": {
    "execution": {
     "iopub.execute_input": "2023-01-25T04:17:56.396845Z",
     "iopub.status.busy": "2023-01-25T04:17:56.396333Z",
     "iopub.status.idle": "2023-01-25T04:17:56.402962Z",
     "shell.execute_reply": "2023-01-25T04:17:56.401205Z"
    },
    "papermill": {
     "duration": 0.020125,
     "end_time": "2023-01-25T04:17:56.405650",
     "exception": false,
     "start_time": "2023-01-25T04:17:56.385525",
     "status": "completed"
    },
    "tags": []
   },
   "outputs": [],
   "source": [
    "def test1(x):\n",
    "    return 'tropical' in x\n",
    "def test2(x):\n",
    "    return 'fruity' in x"
   ]
  },
  {
   "cell_type": "code",
   "execution_count": 13,
   "id": "e32fad73",
   "metadata": {
    "execution": {
     "iopub.execute_input": "2023-01-25T04:17:56.426235Z",
     "iopub.status.busy": "2023-01-25T04:17:56.425816Z",
     "iopub.status.idle": "2023-01-25T04:17:56.505795Z",
     "shell.execute_reply": "2023-01-25T04:17:56.504292Z"
    },
    "papermill": {
     "duration": 0.09392,
     "end_time": "2023-01-25T04:17:56.508969",
     "exception": false,
     "start_time": "2023-01-25T04:17:56.415049",
     "status": "completed"
    },
    "tags": []
   },
   "outputs": [
    {
     "data": {
      "text/plain": [
       "3607"
      ]
     },
     "execution_count": 13,
     "metadata": {},
     "output_type": "execute_result"
    }
   ],
   "source": [
    "reviews.description.map(test1).sum()"
   ]
  },
  {
   "cell_type": "code",
   "execution_count": 14,
   "id": "e9f81772",
   "metadata": {
    "execution": {
     "iopub.execute_input": "2023-01-25T04:17:56.530067Z",
     "iopub.status.busy": "2023-01-25T04:17:56.528839Z",
     "iopub.status.idle": "2023-01-25T04:17:56.678393Z",
     "shell.execute_reply": "2023-01-25T04:17:56.676889Z"
    },
    "papermill": {
     "duration": 0.163792,
     "end_time": "2023-01-25T04:17:56.681991",
     "exception": false,
     "start_time": "2023-01-25T04:17:56.518199",
     "status": "completed"
    },
    "tags": []
   },
   "outputs": [
    {
     "data": {
      "application/javascript": [
       "parent.postMessage({\"jupyterEvent\": \"custom.exercise_interaction\", \"data\": {\"outcomeType\": 1, \"valueTowardsCompletion\": 0.14285714285714285, \"interactionType\": 1, \"questionType\": 1, \"questionId\": \"6_DescriptorCounts\", \"learnToolsVersion\": \"0.3.4\", \"failureMessage\": \"\", \"exceptionClass\": \"\", \"trace\": \"\"}}, \"*\")"
      ],
      "text/plain": [
       "<IPython.core.display.Javascript object>"
      ]
     },
     "metadata": {},
     "output_type": "display_data"
    },
    {
     "data": {
      "text/markdown": [
       "<span style=\"color:#33cc33\">Correct</span>"
      ],
      "text/plain": [
       "Correct"
      ]
     },
     "metadata": {},
     "output_type": "display_data"
    }
   ],
   "source": [
    "descriptor_counts = pd.Series([reviews.description.map(test1).sum(), reviews.description.map(test2).sum()], index=['tropical', 'fruity'])\n",
    "\n",
    "\n",
    "# Check your answer\n",
    "q6.check()"
   ]
  },
  {
   "cell_type": "code",
   "execution_count": 15,
   "id": "84e908a5",
   "metadata": {
    "execution": {
     "iopub.execute_input": "2023-01-25T04:17:56.703461Z",
     "iopub.status.busy": "2023-01-25T04:17:56.702949Z",
     "iopub.status.idle": "2023-01-25T04:17:56.709362Z",
     "shell.execute_reply": "2023-01-25T04:17:56.707479Z"
    },
    "papermill": {
     "duration": 0.021393,
     "end_time": "2023-01-25T04:17:56.712661",
     "exception": false,
     "start_time": "2023-01-25T04:17:56.691268",
     "status": "completed"
    },
    "tags": []
   },
   "outputs": [],
   "source": [
    "#q6.hint()\n",
    "#q6.solution()"
   ]
  },
  {
   "cell_type": "markdown",
   "id": "d8b2387d",
   "metadata": {
    "papermill": {
     "duration": 0.00885,
     "end_time": "2023-01-25T04:17:56.731254",
     "exception": false,
     "start_time": "2023-01-25T04:17:56.722404",
     "status": "completed"
    },
    "tags": []
   },
   "source": [
    "## 7.\n",
    "We'd like to host these wine reviews on our website, but a rating system ranging from 80 to 100 points is too hard to understand - we'd like to translate them into simple star ratings. A score of 95 or higher counts as 3 stars, a score of at least 85 but less than 95 is 2 stars. Any other score is 1 star.\n",
    "\n",
    "Also, the Canadian Vintners Association bought a lot of ads on the site, so any wines from Canada should automatically get 3 stars, regardless of points.\n",
    "\n",
    "Create a series `star_ratings` with the number of stars corresponding to each review in the dataset."
   ]
  },
  {
   "cell_type": "code",
   "execution_count": 16,
   "id": "0b908985",
   "metadata": {
    "execution": {
     "iopub.execute_input": "2023-01-25T04:17:56.752623Z",
     "iopub.status.busy": "2023-01-25T04:17:56.752098Z",
     "iopub.status.idle": "2023-01-25T04:17:56.759219Z",
     "shell.execute_reply": "2023-01-25T04:17:56.757680Z"
    },
    "papermill": {
     "duration": 0.022385,
     "end_time": "2023-01-25T04:17:56.762784",
     "exception": false,
     "start_time": "2023-01-25T04:17:56.740399",
     "status": "completed"
    },
    "tags": []
   },
   "outputs": [],
   "source": [
    "def star(x): \n",
    "    if x >= 96: return 3\n",
    "    if x >= 85: return 2\n",
    "    return 1"
   ]
  },
  {
   "cell_type": "code",
   "execution_count": 17,
   "id": "a142546f",
   "metadata": {
    "execution": {
     "iopub.execute_input": "2023-01-25T04:17:56.785702Z",
     "iopub.status.busy": "2023-01-25T04:17:56.785091Z",
     "iopub.status.idle": "2023-01-25T04:17:56.847647Z",
     "shell.execute_reply": "2023-01-25T04:17:56.846762Z"
    },
    "papermill": {
     "duration": 0.076313,
     "end_time": "2023-01-25T04:17:56.849825",
     "exception": false,
     "start_time": "2023-01-25T04:17:56.773512",
     "status": "completed"
    },
    "tags": []
   },
   "outputs": [
    {
     "data": {
      "application/javascript": [
       "parent.postMessage({\"jupyterEvent\": \"custom.exercise_interaction\", \"data\": {\"outcomeType\": 1, \"valueTowardsCompletion\": 0.14285714285714285, \"interactionType\": 1, \"questionType\": 1, \"questionId\": \"7_StarRatings\", \"learnToolsVersion\": \"0.3.4\", \"failureMessage\": \"\", \"exceptionClass\": \"\", \"trace\": \"\"}}, \"*\")"
      ],
      "text/plain": [
       "<IPython.core.display.Javascript object>"
      ]
     },
     "metadata": {},
     "output_type": "display_data"
    },
    {
     "data": {
      "text/markdown": [
       "<span style=\"color:#33cc33\">Correct</span>"
      ],
      "text/plain": [
       "Correct"
      ]
     },
     "metadata": {},
     "output_type": "display_data"
    }
   ],
   "source": [
    "star_ratings = reviews.points.map(star)\n",
    "\n",
    "# Check your answer\n",
    "q7.check()"
   ]
  },
  {
   "cell_type": "code",
   "execution_count": 18,
   "id": "558fd6e2",
   "metadata": {
    "execution": {
     "iopub.execute_input": "2023-01-25T04:17:56.870461Z",
     "iopub.status.busy": "2023-01-25T04:17:56.869269Z",
     "iopub.status.idle": "2023-01-25T04:17:56.874718Z",
     "shell.execute_reply": "2023-01-25T04:17:56.873515Z"
    },
    "papermill": {
     "duration": 0.0191,
     "end_time": "2023-01-25T04:17:56.877853",
     "exception": false,
     "start_time": "2023-01-25T04:17:56.858753",
     "status": "completed"
    },
    "tags": []
   },
   "outputs": [],
   "source": [
    "#q7.hint()\n",
    "#q7.solution()"
   ]
  },
  {
   "cell_type": "markdown",
   "id": "1661057f",
   "metadata": {
    "papermill": {
     "duration": 0.010181,
     "end_time": "2023-01-25T04:17:56.898203",
     "exception": false,
     "start_time": "2023-01-25T04:17:56.888022",
     "status": "completed"
    },
    "tags": []
   },
   "source": [
    "# Keep going\n",
    "Continue to **[grouping and sorting](https://www.kaggle.com/residentmario/grouping-and-sorting)**."
   ]
  },
  {
   "cell_type": "markdown",
   "id": "30720b87",
   "metadata": {
    "papermill": {
     "duration": 0.010463,
     "end_time": "2023-01-25T04:17:56.918993",
     "exception": false,
     "start_time": "2023-01-25T04:17:56.908530",
     "status": "completed"
    },
    "tags": []
   },
   "source": [
    "---\n",
    "\n",
    "\n",
    "\n",
    "\n",
    "*Have questions or comments? Visit the [course discussion forum](https://www.kaggle.com/learn/pandas/discussion) to chat with other learners.*"
   ]
  }
 ],
 "metadata": {
  "kernelspec": {
   "display_name": "Python 3",
   "language": "python",
   "name": "python3"
  },
  "language_info": {
   "codemirror_mode": {
    "name": "ipython",
    "version": 3
   },
   "file_extension": ".py",
   "mimetype": "text/x-python",
   "name": "python",
   "nbconvert_exporter": "python",
   "pygments_lexer": "ipython3",
   "version": "3.7.12"
  },
  "papermill": {
   "default_parameters": {},
   "duration": 18.568181,
   "end_time": "2023-01-25T04:17:57.955250",
   "environment_variables": {},
   "exception": null,
   "input_path": "__notebook__.ipynb",
   "output_path": "__notebook__.ipynb",
   "parameters": {},
   "start_time": "2023-01-25T04:17:39.387069",
   "version": "2.3.4"
  }
 },
 "nbformat": 4,
 "nbformat_minor": 5
}
