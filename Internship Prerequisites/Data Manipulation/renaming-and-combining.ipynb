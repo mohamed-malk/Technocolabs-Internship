{
 "cells": [
  {
   "cell_type": "markdown",
   "id": "52a227cc",
   "metadata": {
    "papermill": {
     "duration": 0.006294,
     "end_time": "2023-01-25T20:34:40.030690",
     "exception": false,
     "start_time": "2023-01-25T20:34:40.024396",
     "status": "completed"
    },
    "tags": []
   },
   "source": [
    "**This notebook is an exercise in the [Pandas](https://www.kaggle.com/learn/pandas) course.  You can reference the tutorial at [this link](https://www.kaggle.com/residentmario/renaming-and-combining).**\n",
    "\n",
    "---\n"
   ]
  },
  {
   "cell_type": "markdown",
   "id": "271c5b94",
   "metadata": {
    "papermill": {
     "duration": 0.004695,
     "end_time": "2023-01-25T20:34:40.040511",
     "exception": false,
     "start_time": "2023-01-25T20:34:40.035816",
     "status": "completed"
    },
    "tags": []
   },
   "source": [
    "# Introduction\n",
    "\n",
    "Run the following cell to load your data and some utility functions."
   ]
  },
  {
   "cell_type": "code",
   "execution_count": 1,
   "id": "04d471dc",
   "metadata": {
    "execution": {
     "iopub.execute_input": "2023-01-25T20:34:40.052591Z",
     "iopub.status.busy": "2023-01-25T20:34:40.051853Z",
     "iopub.status.idle": "2023-01-25T20:34:44.240035Z",
     "shell.execute_reply": "2023-01-25T20:34:44.239142Z"
    },
    "papermill": {
     "duration": 4.196975,
     "end_time": "2023-01-25T20:34:44.242512",
     "exception": false,
     "start_time": "2023-01-25T20:34:40.045537",
     "status": "completed"
    },
    "tags": []
   },
   "outputs": [
    {
     "name": "stdout",
     "output_type": "stream",
     "text": [
      "Setup complete.\n"
     ]
    }
   ],
   "source": [
    "import pandas as pd\n",
    "\n",
    "reviews = pd.read_csv(\"../input/wine-reviews/winemag-data-130k-v2.csv\", index_col=0)\n",
    "\n",
    "from learntools.core import binder; binder.bind(globals())\n",
    "from learntools.pandas.renaming_and_combining import *\n",
    "print(\"Setup complete.\")"
   ]
  },
  {
   "cell_type": "markdown",
   "id": "576674b5",
   "metadata": {
    "papermill": {
     "duration": 0.00485,
     "end_time": "2023-01-25T20:34:44.252667",
     "exception": false,
     "start_time": "2023-01-25T20:34:44.247817",
     "status": "completed"
    },
    "tags": []
   },
   "source": [
    "# Exercises\n",
    "\n",
    "View the first several lines of your data by running the cell below:"
   ]
  },
  {
   "cell_type": "code",
   "execution_count": 2,
   "id": "5132cd37",
   "metadata": {
    "execution": {
     "iopub.execute_input": "2023-01-25T20:34:44.264813Z",
     "iopub.status.busy": "2023-01-25T20:34:44.264126Z",
     "iopub.status.idle": "2023-01-25T20:34:44.288336Z",
     "shell.execute_reply": "2023-01-25T20:34:44.286967Z"
    },
    "papermill": {
     "duration": 0.033027,
     "end_time": "2023-01-25T20:34:44.290706",
     "exception": false,
     "start_time": "2023-01-25T20:34:44.257679",
     "status": "completed"
    },
    "tags": []
   },
   "outputs": [
    {
     "data": {
      "text/html": [
       "<div>\n",
       "<style scoped>\n",
       "    .dataframe tbody tr th:only-of-type {\n",
       "        vertical-align: middle;\n",
       "    }\n",
       "\n",
       "    .dataframe tbody tr th {\n",
       "        vertical-align: top;\n",
       "    }\n",
       "\n",
       "    .dataframe thead th {\n",
       "        text-align: right;\n",
       "    }\n",
       "</style>\n",
       "<table border=\"1\" class=\"dataframe\">\n",
       "  <thead>\n",
       "    <tr style=\"text-align: right;\">\n",
       "      <th></th>\n",
       "      <th>country</th>\n",
       "      <th>description</th>\n",
       "      <th>designation</th>\n",
       "      <th>points</th>\n",
       "      <th>price</th>\n",
       "      <th>province</th>\n",
       "      <th>region_1</th>\n",
       "      <th>region_2</th>\n",
       "      <th>taster_name</th>\n",
       "      <th>taster_twitter_handle</th>\n",
       "      <th>title</th>\n",
       "      <th>variety</th>\n",
       "      <th>winery</th>\n",
       "    </tr>\n",
       "  </thead>\n",
       "  <tbody>\n",
       "    <tr>\n",
       "      <th>0</th>\n",
       "      <td>Italy</td>\n",
       "      <td>Aromas include tropical fruit, broom, brimston...</td>\n",
       "      <td>Vulkà Bianco</td>\n",
       "      <td>87</td>\n",
       "      <td>NaN</td>\n",
       "      <td>Sicily &amp; Sardinia</td>\n",
       "      <td>Etna</td>\n",
       "      <td>NaN</td>\n",
       "      <td>Kerin O’Keefe</td>\n",
       "      <td>@kerinokeefe</td>\n",
       "      <td>Nicosia 2013 Vulkà Bianco  (Etna)</td>\n",
       "      <td>White Blend</td>\n",
       "      <td>Nicosia</td>\n",
       "    </tr>\n",
       "    <tr>\n",
       "      <th>1</th>\n",
       "      <td>Portugal</td>\n",
       "      <td>This is ripe and fruity, a wine that is smooth...</td>\n",
       "      <td>Avidagos</td>\n",
       "      <td>87</td>\n",
       "      <td>15.0</td>\n",
       "      <td>Douro</td>\n",
       "      <td>NaN</td>\n",
       "      <td>NaN</td>\n",
       "      <td>Roger Voss</td>\n",
       "      <td>@vossroger</td>\n",
       "      <td>Quinta dos Avidagos 2011 Avidagos Red (Douro)</td>\n",
       "      <td>Portuguese Red</td>\n",
       "      <td>Quinta dos Avidagos</td>\n",
       "    </tr>\n",
       "    <tr>\n",
       "      <th>2</th>\n",
       "      <td>US</td>\n",
       "      <td>Tart and snappy, the flavors of lime flesh and...</td>\n",
       "      <td>NaN</td>\n",
       "      <td>87</td>\n",
       "      <td>14.0</td>\n",
       "      <td>Oregon</td>\n",
       "      <td>Willamette Valley</td>\n",
       "      <td>Willamette Valley</td>\n",
       "      <td>Paul Gregutt</td>\n",
       "      <td>@paulgwine</td>\n",
       "      <td>Rainstorm 2013 Pinot Gris (Willamette Valley)</td>\n",
       "      <td>Pinot Gris</td>\n",
       "      <td>Rainstorm</td>\n",
       "    </tr>\n",
       "    <tr>\n",
       "      <th>3</th>\n",
       "      <td>US</td>\n",
       "      <td>Pineapple rind, lemon pith and orange blossom ...</td>\n",
       "      <td>Reserve Late Harvest</td>\n",
       "      <td>87</td>\n",
       "      <td>13.0</td>\n",
       "      <td>Michigan</td>\n",
       "      <td>Lake Michigan Shore</td>\n",
       "      <td>NaN</td>\n",
       "      <td>Alexander Peartree</td>\n",
       "      <td>NaN</td>\n",
       "      <td>St. Julian 2013 Reserve Late Harvest Riesling ...</td>\n",
       "      <td>Riesling</td>\n",
       "      <td>St. Julian</td>\n",
       "    </tr>\n",
       "    <tr>\n",
       "      <th>4</th>\n",
       "      <td>US</td>\n",
       "      <td>Much like the regular bottling from 2012, this...</td>\n",
       "      <td>Vintner's Reserve Wild Child Block</td>\n",
       "      <td>87</td>\n",
       "      <td>65.0</td>\n",
       "      <td>Oregon</td>\n",
       "      <td>Willamette Valley</td>\n",
       "      <td>Willamette Valley</td>\n",
       "      <td>Paul Gregutt</td>\n",
       "      <td>@paulgwine</td>\n",
       "      <td>Sweet Cheeks 2012 Vintner's Reserve Wild Child...</td>\n",
       "      <td>Pinot Noir</td>\n",
       "      <td>Sweet Cheeks</td>\n",
       "    </tr>\n",
       "  </tbody>\n",
       "</table>\n",
       "</div>"
      ],
      "text/plain": [
       "    country                                        description  \\\n",
       "0     Italy  Aromas include tropical fruit, broom, brimston...   \n",
       "1  Portugal  This is ripe and fruity, a wine that is smooth...   \n",
       "2        US  Tart and snappy, the flavors of lime flesh and...   \n",
       "3        US  Pineapple rind, lemon pith and orange blossom ...   \n",
       "4        US  Much like the regular bottling from 2012, this...   \n",
       "\n",
       "                          designation  points  price           province  \\\n",
       "0                        Vulkà Bianco      87    NaN  Sicily & Sardinia   \n",
       "1                            Avidagos      87   15.0              Douro   \n",
       "2                                 NaN      87   14.0             Oregon   \n",
       "3                Reserve Late Harvest      87   13.0           Michigan   \n",
       "4  Vintner's Reserve Wild Child Block      87   65.0             Oregon   \n",
       "\n",
       "              region_1           region_2         taster_name  \\\n",
       "0                 Etna                NaN       Kerin O’Keefe   \n",
       "1                  NaN                NaN          Roger Voss   \n",
       "2    Willamette Valley  Willamette Valley        Paul Gregutt   \n",
       "3  Lake Michigan Shore                NaN  Alexander Peartree   \n",
       "4    Willamette Valley  Willamette Valley        Paul Gregutt   \n",
       "\n",
       "  taster_twitter_handle                                              title  \\\n",
       "0          @kerinokeefe                  Nicosia 2013 Vulkà Bianco  (Etna)   \n",
       "1            @vossroger      Quinta dos Avidagos 2011 Avidagos Red (Douro)   \n",
       "2           @paulgwine       Rainstorm 2013 Pinot Gris (Willamette Valley)   \n",
       "3                   NaN  St. Julian 2013 Reserve Late Harvest Riesling ...   \n",
       "4           @paulgwine   Sweet Cheeks 2012 Vintner's Reserve Wild Child...   \n",
       "\n",
       "          variety               winery  \n",
       "0     White Blend              Nicosia  \n",
       "1  Portuguese Red  Quinta dos Avidagos  \n",
       "2      Pinot Gris            Rainstorm  \n",
       "3        Riesling           St. Julian  \n",
       "4      Pinot Noir         Sweet Cheeks  "
      ]
     },
     "execution_count": 2,
     "metadata": {},
     "output_type": "execute_result"
    }
   ],
   "source": [
    "reviews.head()"
   ]
  },
  {
   "cell_type": "markdown",
   "id": "d252eeab",
   "metadata": {
    "papermill": {
     "duration": 0.00517,
     "end_time": "2023-01-25T20:34:44.301745",
     "exception": false,
     "start_time": "2023-01-25T20:34:44.296575",
     "status": "completed"
    },
    "tags": []
   },
   "source": [
    "## 1.\n",
    "`region_1` and `region_2` are pretty uninformative names for locale columns in the dataset. Create a copy of `reviews` with these columns renamed to `region` and `locale`, respectively."
   ]
  },
  {
   "cell_type": "code",
   "execution_count": 3,
   "id": "c201d15b",
   "metadata": {
    "execution": {
     "iopub.execute_input": "2023-01-25T20:34:44.315297Z",
     "iopub.status.busy": "2023-01-25T20:34:44.314543Z",
     "iopub.status.idle": "2023-01-25T20:34:44.350944Z",
     "shell.execute_reply": "2023-01-25T20:34:44.349694Z"
    },
    "papermill": {
     "duration": 0.046066,
     "end_time": "2023-01-25T20:34:44.353230",
     "exception": false,
     "start_time": "2023-01-25T20:34:44.307164",
     "status": "completed"
    },
    "tags": []
   },
   "outputs": [
    {
     "data": {
      "application/javascript": [
       "parent.postMessage({\"jupyterEvent\": \"custom.exercise_interaction\", \"data\": {\"outcomeType\": 1, \"valueTowardsCompletion\": 0.25, \"interactionType\": 1, \"questionType\": 1, \"questionId\": \"1_RenameCols\", \"learnToolsVersion\": \"0.3.4\", \"failureMessage\": \"\", \"exceptionClass\": \"\", \"trace\": \"\"}}, \"*\")"
      ],
      "text/plain": [
       "<IPython.core.display.Javascript object>"
      ]
     },
     "metadata": {},
     "output_type": "display_data"
    },
    {
     "data": {
      "text/markdown": [
       "<span style=\"color:#33cc33\">Correct</span>"
      ],
      "text/plain": [
       "Correct"
      ]
     },
     "metadata": {},
     "output_type": "display_data"
    }
   ],
   "source": [
    "# Your code here\n",
    "renamed = reviews.rename(columns={'region_1': 'region', 'region_2':'locale'})\n",
    "\n",
    "# Check your answer\n",
    "q1.check()"
   ]
  },
  {
   "cell_type": "code",
   "execution_count": 4,
   "id": "e5aada2b",
   "metadata": {
    "execution": {
     "iopub.execute_input": "2023-01-25T20:34:44.366744Z",
     "iopub.status.busy": "2023-01-25T20:34:44.365891Z",
     "iopub.status.idle": "2023-01-25T20:34:44.370843Z",
     "shell.execute_reply": "2023-01-25T20:34:44.369672Z"
    },
    "papermill": {
     "duration": 0.01418,
     "end_time": "2023-01-25T20:34:44.373116",
     "exception": false,
     "start_time": "2023-01-25T20:34:44.358936",
     "status": "completed"
    },
    "tags": []
   },
   "outputs": [],
   "source": [
    "#q1.hint()\n",
    "#q1.solution()"
   ]
  },
  {
   "cell_type": "markdown",
   "id": "152f6f6f",
   "metadata": {
    "papermill": {
     "duration": 0.005339,
     "end_time": "2023-01-25T20:34:44.384303",
     "exception": false,
     "start_time": "2023-01-25T20:34:44.378964",
     "status": "completed"
    },
    "tags": []
   },
   "source": [
    "## 2.\n",
    "Set the index name in the dataset to `wines`."
   ]
  },
  {
   "cell_type": "code",
   "execution_count": 5,
   "id": "a29d3627",
   "metadata": {
    "execution": {
     "iopub.execute_input": "2023-01-25T20:34:44.397396Z",
     "iopub.status.busy": "2023-01-25T20:34:44.396905Z",
     "iopub.status.idle": "2023-01-25T20:34:44.436319Z",
     "shell.execute_reply": "2023-01-25T20:34:44.434919Z"
    },
    "papermill": {
     "duration": 0.048955,
     "end_time": "2023-01-25T20:34:44.438760",
     "exception": false,
     "start_time": "2023-01-25T20:34:44.389805",
     "status": "completed"
    },
    "tags": []
   },
   "outputs": [
    {
     "data": {
      "application/javascript": [
       "parent.postMessage({\"jupyterEvent\": \"custom.exercise_interaction\", \"data\": {\"outcomeType\": 1, \"valueTowardsCompletion\": 0.25, \"interactionType\": 1, \"questionType\": 1, \"questionId\": \"2_RenameIndex\", \"learnToolsVersion\": \"0.3.4\", \"failureMessage\": \"\", \"exceptionClass\": \"\", \"trace\": \"\"}}, \"*\")"
      ],
      "text/plain": [
       "<IPython.core.display.Javascript object>"
      ]
     },
     "metadata": {},
     "output_type": "display_data"
    },
    {
     "data": {
      "text/markdown": [
       "<span style=\"color:#33cc33\">Correct</span>"
      ],
      "text/plain": [
       "Correct"
      ]
     },
     "metadata": {},
     "output_type": "display_data"
    }
   ],
   "source": [
    "reindexed = reviews.rename_axis('wines', axis='rows')\n",
    "\n",
    "# Check your answer\n",
    "q2.check()"
   ]
  },
  {
   "cell_type": "code",
   "execution_count": 6,
   "id": "e87f7e67",
   "metadata": {
    "execution": {
     "iopub.execute_input": "2023-01-25T20:34:44.452535Z",
     "iopub.status.busy": "2023-01-25T20:34:44.452147Z",
     "iopub.status.idle": "2023-01-25T20:34:44.456715Z",
     "shell.execute_reply": "2023-01-25T20:34:44.455690Z"
    },
    "papermill": {
     "duration": 0.013921,
     "end_time": "2023-01-25T20:34:44.458892",
     "exception": false,
     "start_time": "2023-01-25T20:34:44.444971",
     "status": "completed"
    },
    "tags": []
   },
   "outputs": [],
   "source": [
    "#q2.hint()\n",
    "#q2.solution()"
   ]
  },
  {
   "cell_type": "markdown",
   "id": "0e862172",
   "metadata": {
    "papermill": {
     "duration": 0.005754,
     "end_time": "2023-01-25T20:34:44.470644",
     "exception": false,
     "start_time": "2023-01-25T20:34:44.464890",
     "status": "completed"
    },
    "tags": []
   },
   "source": [
    "## 3.\n",
    "The [Things on Reddit](https://www.kaggle.com/residentmario/things-on-reddit/data) dataset includes product links from a selection of top-ranked forums (\"subreddits\") on reddit.com. Run the cell below to load a dataframe of products mentioned on the */r/gaming* subreddit and another dataframe for products mentioned on the *r//movies* subreddit."
   ]
  },
  {
   "cell_type": "code",
   "execution_count": 7,
   "id": "cfa46de7",
   "metadata": {
    "execution": {
     "iopub.execute_input": "2023-01-25T20:34:44.484428Z",
     "iopub.status.busy": "2023-01-25T20:34:44.484012Z",
     "iopub.status.idle": "2023-01-25T20:34:44.498463Z",
     "shell.execute_reply": "2023-01-25T20:34:44.497330Z"
    },
    "papermill": {
     "duration": 0.024162,
     "end_time": "2023-01-25T20:34:44.500791",
     "exception": false,
     "start_time": "2023-01-25T20:34:44.476629",
     "status": "completed"
    },
    "tags": []
   },
   "outputs": [],
   "source": [
    "gaming_products = pd.read_csv(\"../input/things-on-reddit/top-things/top-things/reddits/g/gaming.csv\")\n",
    "gaming_products['subreddit'] = \"r/gaming\"\n",
    "movie_products = pd.read_csv(\"../input/things-on-reddit/top-things/top-things/reddits/m/movies.csv\")\n",
    "movie_products['subreddit'] = \"r/movies\""
   ]
  },
  {
   "cell_type": "markdown",
   "id": "7d4b7309",
   "metadata": {
    "papermill": {
     "duration": 0.00673,
     "end_time": "2023-01-25T20:34:44.513422",
     "exception": false,
     "start_time": "2023-01-25T20:34:44.506692",
     "status": "completed"
    },
    "tags": []
   },
   "source": [
    "Create a `DataFrame` of products mentioned on *either* subreddit."
   ]
  },
  {
   "cell_type": "code",
   "execution_count": 8,
   "id": "b4cbe17f",
   "metadata": {
    "execution": {
     "iopub.execute_input": "2023-01-25T20:34:44.526557Z",
     "iopub.status.busy": "2023-01-25T20:34:44.526159Z",
     "iopub.status.idle": "2023-01-25T20:34:44.540650Z",
     "shell.execute_reply": "2023-01-25T20:34:44.539532Z"
    },
    "papermill": {
     "duration": 0.023897,
     "end_time": "2023-01-25T20:34:44.542913",
     "exception": false,
     "start_time": "2023-01-25T20:34:44.519016",
     "status": "completed"
    },
    "tags": []
   },
   "outputs": [
    {
     "data": {
      "application/javascript": [
       "parent.postMessage({\"jupyterEvent\": \"custom.exercise_interaction\", \"data\": {\"outcomeType\": 1, \"valueTowardsCompletion\": 0.25, \"interactionType\": 1, \"questionType\": 2, \"questionId\": \"3_ConcatReddit\", \"learnToolsVersion\": \"0.3.4\", \"failureMessage\": \"\", \"exceptionClass\": \"\", \"trace\": \"\"}}, \"*\")"
      ],
      "text/plain": [
       "<IPython.core.display.Javascript object>"
      ]
     },
     "metadata": {},
     "output_type": "display_data"
    },
    {
     "data": {
      "text/markdown": [
       "<span style=\"color:#33cc33\">Correct</span>"
      ],
      "text/plain": [
       "Correct"
      ]
     },
     "metadata": {},
     "output_type": "display_data"
    }
   ],
   "source": [
    "combined_products = pd.concat([gaming_products, movie_products], axis=0)\n",
    "\n",
    "# Check your answer\n",
    "q3.check()"
   ]
  },
  {
   "cell_type": "code",
   "execution_count": 9,
   "id": "70290170",
   "metadata": {
    "execution": {
     "iopub.execute_input": "2023-01-25T20:34:44.556862Z",
     "iopub.status.busy": "2023-01-25T20:34:44.556445Z",
     "iopub.status.idle": "2023-01-25T20:34:44.560873Z",
     "shell.execute_reply": "2023-01-25T20:34:44.559681Z"
    },
    "papermill": {
     "duration": 0.014074,
     "end_time": "2023-01-25T20:34:44.563085",
     "exception": false,
     "start_time": "2023-01-25T20:34:44.549011",
     "status": "completed"
    },
    "tags": []
   },
   "outputs": [],
   "source": [
    "#q3.hint()\n",
    "#q3.solution()"
   ]
  },
  {
   "cell_type": "markdown",
   "id": "6f8c79ac",
   "metadata": {
    "papermill": {
     "duration": 0.005808,
     "end_time": "2023-01-25T20:34:44.575214",
     "exception": false,
     "start_time": "2023-01-25T20:34:44.569406",
     "status": "completed"
    },
    "tags": []
   },
   "source": [
    "## 4.\n",
    "The [Powerlifting Database](https://www.kaggle.com/open-powerlifting/powerlifting-database) dataset on Kaggle includes one CSV table for powerlifting meets and a separate one for powerlifting competitors. Run the cell below to load these datasets into dataframes:"
   ]
  },
  {
   "cell_type": "code",
   "execution_count": 10,
   "id": "3bce7d75",
   "metadata": {
    "execution": {
     "iopub.execute_input": "2023-01-25T20:34:44.589369Z",
     "iopub.status.busy": "2023-01-25T20:34:44.588463Z",
     "iopub.status.idle": "2023-01-25T20:34:45.308898Z",
     "shell.execute_reply": "2023-01-25T20:34:45.307843Z"
    },
    "papermill": {
     "duration": 0.730252,
     "end_time": "2023-01-25T20:34:45.311444",
     "exception": false,
     "start_time": "2023-01-25T20:34:44.581192",
     "status": "completed"
    },
    "tags": []
   },
   "outputs": [],
   "source": [
    "powerlifting_meets = pd.read_csv(\"../input/powerlifting-database/meets.csv\")\n",
    "powerlifting_competitors = pd.read_csv(\"../input/powerlifting-database/openpowerlifting.csv\")"
   ]
  },
  {
   "cell_type": "markdown",
   "id": "4a3300bc",
   "metadata": {
    "papermill": {
     "duration": 0.006075,
     "end_time": "2023-01-25T20:34:45.324329",
     "exception": false,
     "start_time": "2023-01-25T20:34:45.318254",
     "status": "completed"
    },
    "tags": []
   },
   "source": [
    "Both tables include references to a `MeetID`, a unique key for each meet (competition) included in the database. Using this, generate a dataset combining the two tables into one."
   ]
  },
  {
   "cell_type": "code",
   "execution_count": 11,
   "id": "75d83ef6",
   "metadata": {
    "execution": {
     "iopub.execute_input": "2023-01-25T20:34:45.338286Z",
     "iopub.status.busy": "2023-01-25T20:34:45.337909Z",
     "iopub.status.idle": "2023-01-25T20:34:46.413690Z",
     "shell.execute_reply": "2023-01-25T20:34:46.412360Z"
    },
    "papermill": {
     "duration": 1.085778,
     "end_time": "2023-01-25T20:34:46.416199",
     "exception": false,
     "start_time": "2023-01-25T20:34:45.330421",
     "status": "completed"
    },
    "tags": []
   },
   "outputs": [
    {
     "data": {
      "application/javascript": [
       "parent.postMessage({\"jupyterEvent\": \"custom.exercise_interaction\", \"data\": {\"outcomeType\": 1, \"valueTowardsCompletion\": 0.25, \"interactionType\": 1, \"questionType\": 2, \"questionId\": \"4_JoinLifting\", \"learnToolsVersion\": \"0.3.4\", \"failureMessage\": \"\", \"exceptionClass\": \"\", \"trace\": \"\"}}, \"*\")"
      ],
      "text/plain": [
       "<IPython.core.display.Javascript object>"
      ]
     },
     "metadata": {},
     "output_type": "display_data"
    },
    {
     "data": {
      "text/markdown": [
       "<span style=\"color:#33cc33\">Correct</span>"
      ],
      "text/plain": [
       "Correct"
      ]
     },
     "metadata": {},
     "output_type": "display_data"
    }
   ],
   "source": [
    "powerlifting_combined = powerlifting_meets.set_index(\"MeetID\").join(powerlifting_competitors.set_index(\"MeetID\"), on= 'MeetID')\n",
    "\n",
    "# Check your answer\n",
    "q4.check()"
   ]
  },
  {
   "cell_type": "code",
   "execution_count": 12,
   "id": "7b485ae5",
   "metadata": {
    "execution": {
     "iopub.execute_input": "2023-01-25T20:34:46.430955Z",
     "iopub.status.busy": "2023-01-25T20:34:46.430519Z",
     "iopub.status.idle": "2023-01-25T20:34:46.434932Z",
     "shell.execute_reply": "2023-01-25T20:34:46.433883Z"
    },
    "papermill": {
     "duration": 0.014388,
     "end_time": "2023-01-25T20:34:46.437107",
     "exception": false,
     "start_time": "2023-01-25T20:34:46.422719",
     "status": "completed"
    },
    "tags": []
   },
   "outputs": [],
   "source": [
    "#q4.hint()\n",
    "#q4.solution()"
   ]
  },
  {
   "cell_type": "markdown",
   "id": "d67bae38",
   "metadata": {
    "papermill": {
     "duration": 0.006021,
     "end_time": "2023-01-25T20:34:46.449582",
     "exception": false,
     "start_time": "2023-01-25T20:34:46.443561",
     "status": "completed"
    },
    "tags": []
   },
   "source": [
    "# Congratulations!\n",
    "\n",
    "You've finished the Pandas micro-course.  Many data scientists feel efficiency with Pandas is the most useful and practical skill they have, because it allows you to progress quickly in any project you have.\n",
    "\n",
    "If you'd like to apply your new skills to examining geospatial data, you're encouraged to check out our **[Geospatial Analysis](https://www.kaggle.com/learn/geospatial-analysis)** micro-course.\n",
    "\n",
    "You can also take advantage of your Pandas skills by entering a **[Kaggle Competition](https://www.kaggle.com/competitions)** or by answering a question you find interesting using **[Kaggle Datasets](https://www.kaggle.com/datasets)**."
   ]
  },
  {
   "cell_type": "markdown",
   "id": "09702ddb",
   "metadata": {
    "papermill": {
     "duration": 0.006234,
     "end_time": "2023-01-25T20:34:46.461990",
     "exception": false,
     "start_time": "2023-01-25T20:34:46.455756",
     "status": "completed"
    },
    "tags": []
   },
   "source": [
    "---\n",
    "\n",
    "\n",
    "\n",
    "\n",
    "*Have questions or comments? Visit the [course discussion forum](https://www.kaggle.com/learn/pandas/discussion) to chat with other learners.*"
   ]
  }
 ],
 "metadata": {
  "kernelspec": {
   "display_name": "Python 3",
   "language": "python",
   "name": "python3"
  },
  "language_info": {
   "codemirror_mode": {
    "name": "ipython",
    "version": 3
   },
   "file_extension": ".py",
   "mimetype": "text/x-python",
   "name": "python",
   "nbconvert_exporter": "python",
   "pygments_lexer": "ipython3",
   "version": "3.7.12"
  },
  "papermill": {
   "default_parameters": {},
   "duration": 15.587152,
   "end_time": "2023-01-25T20:34:47.190149",
   "environment_variables": {},
   "exception": null,
   "input_path": "__notebook__.ipynb",
   "output_path": "__notebook__.ipynb",
   "parameters": {},
   "start_time": "2023-01-25T20:34:31.602997",
   "version": "2.3.4"
  }
 },
 "nbformat": 4,
 "nbformat_minor": 5
}
