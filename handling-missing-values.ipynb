{
 "cells": [
  {
   "cell_type": "markdown",
   "id": "25f69943",
   "metadata": {
    "papermill": {
     "duration": 0.009291,
     "end_time": "2023-01-17T18:28:35.007085",
     "exception": false,
     "start_time": "2023-01-17T18:28:34.997794",
     "status": "completed"
    },
    "tags": []
   },
   "source": [
    "**This notebook is an exercise in the [Data Cleaning](https://www.kaggle.com/learn/data-cleaning) course.  You can reference the tutorial at [this link](https://www.kaggle.com/alexisbcook/handling-missing-values).**\n",
    "\n",
    "---\n"
   ]
  },
  {
   "cell_type": "markdown",
   "id": "eeb62146",
   "metadata": {
    "papermill": {
     "duration": 0.006892,
     "end_time": "2023-01-17T18:28:35.024207",
     "exception": false,
     "start_time": "2023-01-17T18:28:35.017315",
     "status": "completed"
    },
    "tags": []
   },
   "source": [
    "In this exercise, you'll apply what you learned in the **Handling missing values** tutorial.\n",
    "\n",
    "# Setup\n",
    "\n",
    "The questions below will give you feedback on your work. Run the following cell to set up the feedback system."
   ]
  },
  {
   "cell_type": "code",
   "execution_count": 1,
   "id": "5a8c7455",
   "metadata": {
    "execution": {
     "iopub.execute_input": "2023-01-17T18:28:35.040791Z",
     "iopub.status.busy": "2023-01-17T18:28:35.039330Z",
     "iopub.status.idle": "2023-01-17T18:28:39.719809Z",
     "shell.execute_reply": "2023-01-17T18:28:39.717686Z"
    },
    "papermill": {
     "duration": 4.693638,
     "end_time": "2023-01-17T18:28:39.724345",
     "exception": false,
     "start_time": "2023-01-17T18:28:35.030707",
     "status": "completed"
    },
    "tags": []
   },
   "outputs": [
    {
     "name": "stderr",
     "output_type": "stream",
     "text": [
      "/opt/conda/lib/python3.7/site-packages/ipykernel_launcher.py:3: DtypeWarning: Columns (22,32) have mixed types.Specify dtype option on import or set low_memory=False.\n",
      "  This is separate from the ipykernel package so we can avoid doing imports until\n"
     ]
    },
    {
     "name": "stdout",
     "output_type": "stream",
     "text": [
      "Setup Complete\n"
     ]
    }
   ],
   "source": [
    "from learntools.core import binder\n",
    "binder.bind(globals())\n",
    "from learntools.data_cleaning.ex1 import *\n",
    "print(\"Setup Complete\")"
   ]
  },
  {
   "cell_type": "markdown",
   "id": "efa67b60",
   "metadata": {
    "papermill": {
     "duration": 0.006972,
     "end_time": "2023-01-17T18:28:39.739465",
     "exception": false,
     "start_time": "2023-01-17T18:28:39.732493",
     "status": "completed"
    },
    "tags": []
   },
   "source": [
    "# 1) Take a first look at the data\n",
    "\n",
    "Run the next code cell to load in the libraries and dataset you'll use to complete the exercise."
   ]
  },
  {
   "cell_type": "code",
   "execution_count": 2,
   "id": "d3f7bcbf",
   "metadata": {
    "execution": {
     "iopub.execute_input": "2023-01-17T18:28:39.757270Z",
     "iopub.status.busy": "2023-01-17T18:28:39.755816Z",
     "iopub.status.idle": "2023-01-17T18:28:42.213889Z",
     "shell.execute_reply": "2023-01-17T18:28:42.212998Z"
    },
    "papermill": {
     "duration": 2.470008,
     "end_time": "2023-01-17T18:28:42.216891",
     "exception": false,
     "start_time": "2023-01-17T18:28:39.746883",
     "status": "completed"
    },
    "tags": []
   },
   "outputs": [
    {
     "name": "stderr",
     "output_type": "stream",
     "text": [
      "/opt/conda/lib/python3.7/site-packages/IPython/core/interactiveshell.py:3552: DtypeWarning: Columns (22,32) have mixed types.Specify dtype option on import or set low_memory=False.\n",
      "  exec(code_obj, self.user_global_ns, self.user_ns)\n"
     ]
    }
   ],
   "source": [
    "# modules we'll use\n",
    "import pandas as pd\n",
    "import numpy as np\n",
    "\n",
    "# read in all our data\n",
    "sf_permits = pd.read_csv(\"../input/building-permit-applications-data/Building_Permits.csv\")\n",
    "\n",
    "# set seed for reproducibility\n",
    "np.random.seed(0) "
   ]
  },
  {
   "cell_type": "markdown",
   "id": "d98a593e",
   "metadata": {
    "papermill": {
     "duration": 0.007108,
     "end_time": "2023-01-17T18:28:42.231663",
     "exception": false,
     "start_time": "2023-01-17T18:28:42.224555",
     "status": "completed"
    },
    "tags": []
   },
   "source": [
    "Use the code cell below to print the first five rows of the `sf_permits` DataFrame."
   ]
  },
  {
   "cell_type": "code",
   "execution_count": 3,
   "id": "2ab1b9ce",
   "metadata": {
    "execution": {
     "iopub.execute_input": "2023-01-17T18:28:42.250836Z",
     "iopub.status.busy": "2023-01-17T18:28:42.250214Z",
     "iopub.status.idle": "2023-01-17T18:28:42.293291Z",
     "shell.execute_reply": "2023-01-17T18:28:42.291763Z"
    },
    "papermill": {
     "duration": 0.055024,
     "end_time": "2023-01-17T18:28:42.296331",
     "exception": false,
     "start_time": "2023-01-17T18:28:42.241307",
     "status": "completed"
    },
    "tags": []
   },
   "outputs": [
    {
     "data": {
      "text/html": [
       "<div>\n",
       "<style scoped>\n",
       "    .dataframe tbody tr th:only-of-type {\n",
       "        vertical-align: middle;\n",
       "    }\n",
       "\n",
       "    .dataframe tbody tr th {\n",
       "        vertical-align: top;\n",
       "    }\n",
       "\n",
       "    .dataframe thead th {\n",
       "        text-align: right;\n",
       "    }\n",
       "</style>\n",
       "<table border=\"1\" class=\"dataframe\">\n",
       "  <thead>\n",
       "    <tr style=\"text-align: right;\">\n",
       "      <th></th>\n",
       "      <th>Permit Number</th>\n",
       "      <th>Permit Type</th>\n",
       "      <th>Permit Type Definition</th>\n",
       "      <th>Permit Creation Date</th>\n",
       "      <th>Block</th>\n",
       "      <th>Lot</th>\n",
       "      <th>Street Number</th>\n",
       "      <th>Street Number Suffix</th>\n",
       "      <th>Street Name</th>\n",
       "      <th>Street Suffix</th>\n",
       "      <th>...</th>\n",
       "      <th>Existing Construction Type</th>\n",
       "      <th>Existing Construction Type Description</th>\n",
       "      <th>Proposed Construction Type</th>\n",
       "      <th>Proposed Construction Type Description</th>\n",
       "      <th>Site Permit</th>\n",
       "      <th>Supervisor District</th>\n",
       "      <th>Neighborhoods - Analysis Boundaries</th>\n",
       "      <th>Zipcode</th>\n",
       "      <th>Location</th>\n",
       "      <th>Record ID</th>\n",
       "    </tr>\n",
       "  </thead>\n",
       "  <tbody>\n",
       "    <tr>\n",
       "      <th>0</th>\n",
       "      <td>201505065519</td>\n",
       "      <td>4</td>\n",
       "      <td>sign - erect</td>\n",
       "      <td>05/06/2015</td>\n",
       "      <td>0326</td>\n",
       "      <td>023</td>\n",
       "      <td>140</td>\n",
       "      <td>NaN</td>\n",
       "      <td>Ellis</td>\n",
       "      <td>St</td>\n",
       "      <td>...</td>\n",
       "      <td>3.0</td>\n",
       "      <td>constr type 3</td>\n",
       "      <td>NaN</td>\n",
       "      <td>NaN</td>\n",
       "      <td>NaN</td>\n",
       "      <td>3.0</td>\n",
       "      <td>Tenderloin</td>\n",
       "      <td>94102.0</td>\n",
       "      <td>(37.785719256680785, -122.40852313194863)</td>\n",
       "      <td>1380611233945</td>\n",
       "    </tr>\n",
       "    <tr>\n",
       "      <th>1</th>\n",
       "      <td>201604195146</td>\n",
       "      <td>4</td>\n",
       "      <td>sign - erect</td>\n",
       "      <td>04/19/2016</td>\n",
       "      <td>0306</td>\n",
       "      <td>007</td>\n",
       "      <td>440</td>\n",
       "      <td>NaN</td>\n",
       "      <td>Geary</td>\n",
       "      <td>St</td>\n",
       "      <td>...</td>\n",
       "      <td>3.0</td>\n",
       "      <td>constr type 3</td>\n",
       "      <td>NaN</td>\n",
       "      <td>NaN</td>\n",
       "      <td>NaN</td>\n",
       "      <td>3.0</td>\n",
       "      <td>Tenderloin</td>\n",
       "      <td>94102.0</td>\n",
       "      <td>(37.78733980600732, -122.41063199757738)</td>\n",
       "      <td>1420164406718</td>\n",
       "    </tr>\n",
       "    <tr>\n",
       "      <th>2</th>\n",
       "      <td>201605278609</td>\n",
       "      <td>3</td>\n",
       "      <td>additions alterations or repairs</td>\n",
       "      <td>05/27/2016</td>\n",
       "      <td>0595</td>\n",
       "      <td>203</td>\n",
       "      <td>1647</td>\n",
       "      <td>NaN</td>\n",
       "      <td>Pacific</td>\n",
       "      <td>Av</td>\n",
       "      <td>...</td>\n",
       "      <td>1.0</td>\n",
       "      <td>constr type 1</td>\n",
       "      <td>1.0</td>\n",
       "      <td>constr type 1</td>\n",
       "      <td>NaN</td>\n",
       "      <td>3.0</td>\n",
       "      <td>Russian Hill</td>\n",
       "      <td>94109.0</td>\n",
       "      <td>(37.7946573324287, -122.42232562979227)</td>\n",
       "      <td>1424856504716</td>\n",
       "    </tr>\n",
       "    <tr>\n",
       "      <th>3</th>\n",
       "      <td>201611072166</td>\n",
       "      <td>8</td>\n",
       "      <td>otc alterations permit</td>\n",
       "      <td>11/07/2016</td>\n",
       "      <td>0156</td>\n",
       "      <td>011</td>\n",
       "      <td>1230</td>\n",
       "      <td>NaN</td>\n",
       "      <td>Pacific</td>\n",
       "      <td>Av</td>\n",
       "      <td>...</td>\n",
       "      <td>5.0</td>\n",
       "      <td>wood frame (5)</td>\n",
       "      <td>5.0</td>\n",
       "      <td>wood frame (5)</td>\n",
       "      <td>NaN</td>\n",
       "      <td>3.0</td>\n",
       "      <td>Nob Hill</td>\n",
       "      <td>94109.0</td>\n",
       "      <td>(37.79595867909168, -122.41557405519474)</td>\n",
       "      <td>1443574295566</td>\n",
       "    </tr>\n",
       "    <tr>\n",
       "      <th>4</th>\n",
       "      <td>201611283529</td>\n",
       "      <td>6</td>\n",
       "      <td>demolitions</td>\n",
       "      <td>11/28/2016</td>\n",
       "      <td>0342</td>\n",
       "      <td>001</td>\n",
       "      <td>950</td>\n",
       "      <td>NaN</td>\n",
       "      <td>Market</td>\n",
       "      <td>St</td>\n",
       "      <td>...</td>\n",
       "      <td>3.0</td>\n",
       "      <td>constr type 3</td>\n",
       "      <td>NaN</td>\n",
       "      <td>NaN</td>\n",
       "      <td>NaN</td>\n",
       "      <td>6.0</td>\n",
       "      <td>Tenderloin</td>\n",
       "      <td>94102.0</td>\n",
       "      <td>(37.78315261897309, -122.40950883997789)</td>\n",
       "      <td>144548169992</td>\n",
       "    </tr>\n",
       "  </tbody>\n",
       "</table>\n",
       "<p>5 rows × 43 columns</p>\n",
       "</div>"
      ],
      "text/plain": [
       "  Permit Number  Permit Type            Permit Type Definition  \\\n",
       "0  201505065519            4                      sign - erect   \n",
       "1  201604195146            4                      sign - erect   \n",
       "2  201605278609            3  additions alterations or repairs   \n",
       "3  201611072166            8            otc alterations permit   \n",
       "4  201611283529            6                       demolitions   \n",
       "\n",
       "  Permit Creation Date Block  Lot  Street Number Street Number Suffix  \\\n",
       "0           05/06/2015  0326  023            140                  NaN   \n",
       "1           04/19/2016  0306  007            440                  NaN   \n",
       "2           05/27/2016  0595  203           1647                  NaN   \n",
       "3           11/07/2016  0156  011           1230                  NaN   \n",
       "4           11/28/2016  0342  001            950                  NaN   \n",
       "\n",
       "  Street Name Street Suffix  ...  Existing Construction Type  \\\n",
       "0       Ellis            St  ...                         3.0   \n",
       "1       Geary            St  ...                         3.0   \n",
       "2     Pacific            Av  ...                         1.0   \n",
       "3     Pacific            Av  ...                         5.0   \n",
       "4      Market            St  ...                         3.0   \n",
       "\n",
       "  Existing Construction Type Description Proposed Construction Type  \\\n",
       "0                          constr type 3                        NaN   \n",
       "1                          constr type 3                        NaN   \n",
       "2                          constr type 1                        1.0   \n",
       "3                         wood frame (5)                        5.0   \n",
       "4                          constr type 3                        NaN   \n",
       "\n",
       "  Proposed Construction Type Description Site Permit Supervisor District  \\\n",
       "0                                    NaN         NaN                 3.0   \n",
       "1                                    NaN         NaN                 3.0   \n",
       "2                          constr type 1         NaN                 3.0   \n",
       "3                         wood frame (5)         NaN                 3.0   \n",
       "4                                    NaN         NaN                 6.0   \n",
       "\n",
       "  Neighborhoods - Analysis Boundaries  Zipcode  \\\n",
       "0                          Tenderloin  94102.0   \n",
       "1                          Tenderloin  94102.0   \n",
       "2                        Russian Hill  94109.0   \n",
       "3                            Nob Hill  94109.0   \n",
       "4                          Tenderloin  94102.0   \n",
       "\n",
       "                                    Location      Record ID  \n",
       "0  (37.785719256680785, -122.40852313194863)  1380611233945  \n",
       "1   (37.78733980600732, -122.41063199757738)  1420164406718  \n",
       "2    (37.7946573324287, -122.42232562979227)  1424856504716  \n",
       "3   (37.79595867909168, -122.41557405519474)  1443574295566  \n",
       "4   (37.78315261897309, -122.40950883997789)   144548169992  \n",
       "\n",
       "[5 rows x 43 columns]"
      ]
     },
     "execution_count": 3,
     "metadata": {},
     "output_type": "execute_result"
    }
   ],
   "source": [
    "# TODO: Your code here!\n",
    "sf_permits.head(5)"
   ]
  },
  {
   "cell_type": "markdown",
   "id": "85c69304",
   "metadata": {
    "papermill": {
     "duration": 0.007401,
     "end_time": "2023-01-17T18:28:42.312252",
     "exception": false,
     "start_time": "2023-01-17T18:28:42.304851",
     "status": "completed"
    },
    "tags": []
   },
   "source": [
    "Does the dataset have any missing values?  Once you have an answer, run the code cell below to get credit for your work."
   ]
  },
  {
   "cell_type": "code",
   "execution_count": 4,
   "id": "44db7b93",
   "metadata": {
    "execution": {
     "iopub.execute_input": "2023-01-17T18:28:42.329672Z",
     "iopub.status.busy": "2023-01-17T18:28:42.329219Z",
     "iopub.status.idle": "2023-01-17T18:28:42.340441Z",
     "shell.execute_reply": "2023-01-17T18:28:42.339143Z"
    },
    "papermill": {
     "duration": 0.022954,
     "end_time": "2023-01-17T18:28:42.342997",
     "exception": false,
     "start_time": "2023-01-17T18:28:42.320043",
     "status": "completed"
    },
    "tags": []
   },
   "outputs": [
    {
     "data": {
      "application/javascript": [
       "parent.postMessage({\"jupyterEvent\": \"custom.exercise_interaction\", \"data\": {\"outcomeType\": 1, \"valueTowardsCompletion\": 0.16666666666666666, \"interactionType\": 1, \"questionType\": 4, \"questionId\": \"1_TakeFirstLook\", \"learnToolsVersion\": \"0.3.4\", \"failureMessage\": \"\", \"exceptionClass\": \"\", \"trace\": \"\"}}, \"*\")"
      ],
      "text/plain": [
       "<IPython.core.display.Javascript object>"
      ]
     },
     "metadata": {},
     "output_type": "display_data"
    },
    {
     "data": {
      "text/markdown": [
       "<span style=\"color:#33cc33\">Correct:</span> \n",
       "\n",
       "The first five rows of the data does show that several columns have missing values.  You can see this in the \"Street Number Suffix\", \"Proposed Construction Type\" and \"Site Permit\" columns, among others."
      ],
      "text/plain": [
       "Correct: \n",
       "\n",
       "The first five rows of the data does show that several columns have missing values.  You can see this in the \"Street Number Suffix\", \"Proposed Construction Type\" and \"Site Permit\" columns, among others."
      ]
     },
     "metadata": {},
     "output_type": "display_data"
    }
   ],
   "source": [
    "# Check your answer (Run this code cell to receive credit!)\n",
    "q1.check()"
   ]
  },
  {
   "cell_type": "code",
   "execution_count": 5,
   "id": "a83fddbe",
   "metadata": {
    "execution": {
     "iopub.execute_input": "2023-01-17T18:28:42.361653Z",
     "iopub.status.busy": "2023-01-17T18:28:42.361175Z",
     "iopub.status.idle": "2023-01-17T18:28:42.366322Z",
     "shell.execute_reply": "2023-01-17T18:28:42.365326Z"
    },
    "papermill": {
     "duration": 0.017208,
     "end_time": "2023-01-17T18:28:42.368621",
     "exception": false,
     "start_time": "2023-01-17T18:28:42.351413",
     "status": "completed"
    },
    "tags": []
   },
   "outputs": [],
   "source": [
    "# Line below will give you a hint\n",
    "#q1.hint()"
   ]
  },
  {
   "cell_type": "markdown",
   "id": "1fbb7dd9",
   "metadata": {
    "papermill": {
     "duration": 0.007623,
     "end_time": "2023-01-17T18:28:42.384713",
     "exception": false,
     "start_time": "2023-01-17T18:28:42.377090",
     "status": "completed"
    },
    "tags": []
   },
   "source": [
    "# 2) How many missing data points do we have?\n",
    "\n",
    "What percentage of the values in the dataset are missing?  Your answer should be a number between 0 and 100.  (If 1/4 of the values in the dataset are missing, the answer is 25.)"
   ]
  },
  {
   "cell_type": "code",
   "execution_count": 6,
   "id": "de571143",
   "metadata": {
    "execution": {
     "iopub.execute_input": "2023-01-17T18:28:42.402828Z",
     "iopub.status.busy": "2023-01-17T18:28:42.402439Z",
     "iopub.status.idle": "2023-01-17T18:28:42.641487Z",
     "shell.execute_reply": "2023-01-17T18:28:42.640274Z"
    },
    "papermill": {
     "duration": 0.251717,
     "end_time": "2023-01-17T18:28:42.644509",
     "exception": false,
     "start_time": "2023-01-17T18:28:42.392792",
     "status": "completed"
    },
    "tags": []
   },
   "outputs": [
    {
     "data": {
      "text/plain": [
       "2245941"
      ]
     },
     "execution_count": 6,
     "metadata": {},
     "output_type": "execute_result"
    }
   ],
   "source": [
    "sf_permits.isnull().sum().sum()"
   ]
  },
  {
   "cell_type": "code",
   "execution_count": 7,
   "id": "8bf0363f",
   "metadata": {
    "execution": {
     "iopub.execute_input": "2023-01-17T18:28:42.662889Z",
     "iopub.status.busy": "2023-01-17T18:28:42.662430Z",
     "iopub.status.idle": "2023-01-17T18:28:42.911033Z",
     "shell.execute_reply": "2023-01-17T18:28:42.909857Z"
    },
    "papermill": {
     "duration": 0.26078,
     "end_time": "2023-01-17T18:28:42.913453",
     "exception": false,
     "start_time": "2023-01-17T18:28:42.652673",
     "status": "completed"
    },
    "tags": []
   },
   "outputs": [
    {
     "data": {
      "application/javascript": [
       "parent.postMessage({\"jupyterEvent\": \"custom.exercise_interaction\", \"data\": {\"outcomeType\": 1, \"valueTowardsCompletion\": 0.16666666666666666, \"interactionType\": 1, \"questionType\": 1, \"questionId\": \"2_PercentMissingValues\", \"learnToolsVersion\": \"0.3.4\", \"failureMessage\": \"\", \"exceptionClass\": \"\", \"trace\": \"\"}}, \"*\")"
      ],
      "text/plain": [
       "<IPython.core.display.Javascript object>"
      ]
     },
     "metadata": {},
     "output_type": "display_data"
    },
    {
     "data": {
      "text/markdown": [
       "<span style=\"color:#33cc33\">Correct</span>"
      ],
      "text/plain": [
       "Correct"
      ]
     },
     "metadata": {},
     "output_type": "display_data"
    }
   ],
   "source": [
    "# TODO: Your code here!\n",
    "percent_missing = ((sf_permits.isnull().sum().sum()) / (np.shape(sf_permits)[0] * np.shape(sf_permits)[1])) * 100\n",
    "\n",
    "# Check your answer\n",
    "q2.check()"
   ]
  },
  {
   "cell_type": "code",
   "execution_count": 8,
   "id": "38f9c92b",
   "metadata": {
    "execution": {
     "iopub.execute_input": "2023-01-17T18:28:42.931017Z",
     "iopub.status.busy": "2023-01-17T18:28:42.930598Z",
     "iopub.status.idle": "2023-01-17T18:28:42.935814Z",
     "shell.execute_reply": "2023-01-17T18:28:42.934342Z"
    },
    "papermill": {
     "duration": 0.016995,
     "end_time": "2023-01-17T18:28:42.938379",
     "exception": false,
     "start_time": "2023-01-17T18:28:42.921384",
     "status": "completed"
    },
    "tags": []
   },
   "outputs": [],
   "source": [
    "# Lines below will give you a hint or solution code\n",
    "#q2.hint()\n",
    "#q2.solution()"
   ]
  },
  {
   "cell_type": "markdown",
   "id": "b389354c",
   "metadata": {
    "papermill": {
     "duration": 0.007963,
     "end_time": "2023-01-17T18:28:42.954698",
     "exception": false,
     "start_time": "2023-01-17T18:28:42.946735",
     "status": "completed"
    },
    "tags": []
   },
   "source": [
    "# 3) Figure out why the data is missing\n",
    "\n",
    "Look at the columns **\"Street Number Suffix\"** and **\"Zipcode\"** from the [San Francisco Building Permits dataset](https://www.kaggle.com/aparnashastry/building-permit-applications-data). Both of these contain missing values. \n",
    "- Which, if either, are missing because they don't exist? \n",
    "- Which, if either, are missing because they weren't recorded?  \n",
    "\n",
    "Once you have an answer, run the code cell below."
   ]
  },
  {
   "cell_type": "code",
   "execution_count": 9,
   "id": "6286fe39",
   "metadata": {
    "execution": {
     "iopub.execute_input": "2023-01-17T18:28:42.973331Z",
     "iopub.status.busy": "2023-01-17T18:28:42.972693Z",
     "iopub.status.idle": "2023-01-17T18:28:42.985238Z",
     "shell.execute_reply": "2023-01-17T18:28:42.983852Z"
    },
    "papermill": {
     "duration": 0.024795,
     "end_time": "2023-01-17T18:28:42.987842",
     "exception": false,
     "start_time": "2023-01-17T18:28:42.963047",
     "status": "completed"
    },
    "tags": []
   },
   "outputs": [
    {
     "data": {
      "text/plain": [
       "0.8627450980392156"
      ]
     },
     "execution_count": 9,
     "metadata": {},
     "output_type": "execute_result"
    }
   ],
   "source": [
    "(sf_permits['Zipcode'].isnull().sum() / np.shape(sf_permits)[0]) * 100\n",
    "\n",
    "# Not Recorded, Because the missing value is very small"
   ]
  },
  {
   "cell_type": "code",
   "execution_count": 10,
   "id": "a37ed2bd",
   "metadata": {
    "execution": {
     "iopub.execute_input": "2023-01-17T18:28:43.007285Z",
     "iopub.status.busy": "2023-01-17T18:28:43.006501Z",
     "iopub.status.idle": "2023-01-17T18:28:43.028474Z",
     "shell.execute_reply": "2023-01-17T18:28:43.025487Z"
    },
    "papermill": {
     "duration": 0.036013,
     "end_time": "2023-01-17T18:28:43.032551",
     "exception": false,
     "start_time": "2023-01-17T18:28:42.996538",
     "status": "completed"
    },
    "tags": []
   },
   "outputs": [
    {
     "data": {
      "text/plain": [
       "98.88587229763701"
      ]
     },
     "execution_count": 10,
     "metadata": {},
     "output_type": "execute_result"
    }
   ],
   "source": [
    "(sf_permits['Street Number Suffix'].isnull().sum() / np.shape(sf_permits)[0]) * 100\n",
    "\n",
    "# Droped, Because the missing value is very high"
   ]
  },
  {
   "cell_type": "code",
   "execution_count": 11,
   "id": "cfebc7bf",
   "metadata": {
    "execution": {
     "iopub.execute_input": "2023-01-17T18:28:43.056812Z",
     "iopub.status.busy": "2023-01-17T18:28:43.055713Z",
     "iopub.status.idle": "2023-01-17T18:28:43.065786Z",
     "shell.execute_reply": "2023-01-17T18:28:43.064457Z"
    },
    "papermill": {
     "duration": 0.025704,
     "end_time": "2023-01-17T18:28:43.068300",
     "exception": false,
     "start_time": "2023-01-17T18:28:43.042596",
     "status": "completed"
    },
    "tags": []
   },
   "outputs": [
    {
     "data": {
      "application/javascript": [
       "parent.postMessage({\"jupyterEvent\": \"custom.exercise_interaction\", \"data\": {\"outcomeType\": 1, \"valueTowardsCompletion\": 0.16666666666666666, \"interactionType\": 1, \"questionType\": 4, \"questionId\": \"3_WhyDataMissing\", \"learnToolsVersion\": \"0.3.4\", \"failureMessage\": \"\", \"exceptionClass\": \"\", \"trace\": \"\"}}, \"*\")"
      ],
      "text/plain": [
       "<IPython.core.display.Javascript object>"
      ]
     },
     "metadata": {},
     "output_type": "display_data"
    },
    {
     "data": {
      "text/markdown": [
       "<span style=\"color:#33cc33\">Correct:</span> \n",
       "\n",
       "If a value in the \"Street Number Suffix\" column is missing, it is likely because it does not exist. If a value in the \"Zipcode\" column is missing, it was not recorded."
      ],
      "text/plain": [
       "Correct: \n",
       "\n",
       "If a value in the \"Street Number Suffix\" column is missing, it is likely because it does not exist. If a value in the \"Zipcode\" column is missing, it was not recorded."
      ]
     },
     "metadata": {},
     "output_type": "display_data"
    }
   ],
   "source": [
    "# Check your answer (Run this code cell to receive credit!)\n",
    "q3.check()"
   ]
  },
  {
   "cell_type": "code",
   "execution_count": 12,
   "id": "484d51e5",
   "metadata": {
    "execution": {
     "iopub.execute_input": "2023-01-17T18:28:43.098170Z",
     "iopub.status.busy": "2023-01-17T18:28:43.096060Z",
     "iopub.status.idle": "2023-01-17T18:28:43.103177Z",
     "shell.execute_reply": "2023-01-17T18:28:43.101669Z"
    },
    "papermill": {
     "duration": 0.024261,
     "end_time": "2023-01-17T18:28:43.107081",
     "exception": false,
     "start_time": "2023-01-17T18:28:43.082820",
     "status": "completed"
    },
    "tags": []
   },
   "outputs": [],
   "source": [
    "# Line below will give you a hint\n",
    "#q3.hint()"
   ]
  },
  {
   "cell_type": "markdown",
   "id": "e4c874d3",
   "metadata": {
    "papermill": {
     "duration": 0.010602,
     "end_time": "2023-01-17T18:28:43.127821",
     "exception": false,
     "start_time": "2023-01-17T18:28:43.117219",
     "status": "completed"
    },
    "tags": []
   },
   "source": [
    "# 4) Drop missing values: rows\n",
    "\n",
    "If you removed all of the rows of `sf_permits` with missing values, how many rows are left?\n",
    "\n",
    "**Note**: Do not change the value of `sf_permits` when checking this.  "
   ]
  },
  {
   "cell_type": "code",
   "execution_count": 13,
   "id": "f4ba4ae3",
   "metadata": {
    "execution": {
     "iopub.execute_input": "2023-01-17T18:28:43.153237Z",
     "iopub.status.busy": "2023-01-17T18:28:43.151299Z",
     "iopub.status.idle": "2023-01-17T18:28:43.409791Z",
     "shell.execute_reply": "2023-01-17T18:28:43.408403Z"
    },
    "papermill": {
     "duration": 0.271477,
     "end_time": "2023-01-17T18:28:43.412583",
     "exception": false,
     "start_time": "2023-01-17T18:28:43.141106",
     "status": "completed"
    },
    "tags": []
   },
   "outputs": [
    {
     "data": {
      "text/plain": [
       "0"
      ]
     },
     "execution_count": 13,
     "metadata": {},
     "output_type": "execute_result"
    }
   ],
   "source": [
    "# TODO: Your code here!\n",
    "np.shape(sf_permits.dropna())[0]"
   ]
  },
  {
   "cell_type": "markdown",
   "id": "e30df4f7",
   "metadata": {
    "papermill": {
     "duration": 0.008574,
     "end_time": "2023-01-17T18:28:43.429590",
     "exception": false,
     "start_time": "2023-01-17T18:28:43.421016",
     "status": "completed"
    },
    "tags": []
   },
   "source": [
    "Once you have an answer, run the code cell below."
   ]
  },
  {
   "cell_type": "code",
   "execution_count": 14,
   "id": "97e6ba86",
   "metadata": {
    "execution": {
     "iopub.execute_input": "2023-01-17T18:28:43.448822Z",
     "iopub.status.busy": "2023-01-17T18:28:43.448434Z",
     "iopub.status.idle": "2023-01-17T18:28:43.458257Z",
     "shell.execute_reply": "2023-01-17T18:28:43.456768Z"
    },
    "papermill": {
     "duration": 0.02283,
     "end_time": "2023-01-17T18:28:43.461139",
     "exception": false,
     "start_time": "2023-01-17T18:28:43.438309",
     "status": "completed"
    },
    "tags": []
   },
   "outputs": [
    {
     "data": {
      "application/javascript": [
       "parent.postMessage({\"jupyterEvent\": \"custom.exercise_interaction\", \"data\": {\"outcomeType\": 1, \"valueTowardsCompletion\": 0.16666666666666666, \"interactionType\": 1, \"questionType\": 4, \"questionId\": \"4_DropMissingRows\", \"learnToolsVersion\": \"0.3.4\", \"failureMessage\": \"\", \"exceptionClass\": \"\", \"trace\": \"\"}}, \"*\")"
      ],
      "text/plain": [
       "<IPython.core.display.Javascript object>"
      ]
     },
     "metadata": {},
     "output_type": "display_data"
    },
    {
     "data": {
      "text/markdown": [
       "<span style=\"color:#33cc33\">Correct:</span> \n",
       "\n",
       "There are no rows remaining in the dataset!"
      ],
      "text/plain": [
       "Correct: \n",
       "\n",
       "There are no rows remaining in the dataset!"
      ]
     },
     "metadata": {},
     "output_type": "display_data"
    }
   ],
   "source": [
    "# Check your answer (Run this code cell to receive credit!)\n",
    "q4.check()"
   ]
  },
  {
   "cell_type": "code",
   "execution_count": 15,
   "id": "8e5c1970",
   "metadata": {
    "execution": {
     "iopub.execute_input": "2023-01-17T18:28:43.481494Z",
     "iopub.status.busy": "2023-01-17T18:28:43.481098Z",
     "iopub.status.idle": "2023-01-17T18:28:43.486077Z",
     "shell.execute_reply": "2023-01-17T18:28:43.484918Z"
    },
    "papermill": {
     "duration": 0.018316,
     "end_time": "2023-01-17T18:28:43.488581",
     "exception": false,
     "start_time": "2023-01-17T18:28:43.470265",
     "status": "completed"
    },
    "tags": []
   },
   "outputs": [],
   "source": [
    "# Line below will give you a hint\n",
    "#q4.hint()"
   ]
  },
  {
   "cell_type": "markdown",
   "id": "e02f25c6",
   "metadata": {
    "papermill": {
     "duration": 0.008777,
     "end_time": "2023-01-17T18:28:43.506616",
     "exception": false,
     "start_time": "2023-01-17T18:28:43.497839",
     "status": "completed"
    },
    "tags": []
   },
   "source": [
    "# 5) Drop missing values: columns\n",
    "\n",
    "Now try removing all the columns with empty values.  \n",
    "- Create a new DataFrame called `sf_permits_with_na_dropped` that has all of the columns with empty values removed.  \n",
    "- How many columns were removed from the original `sf_permits` DataFrame? Use this number to set the value of the `dropped_columns` variable below."
   ]
  },
  {
   "cell_type": "code",
   "execution_count": 16,
   "id": "11a92961",
   "metadata": {
    "execution": {
     "iopub.execute_input": "2023-01-17T18:28:43.527758Z",
     "iopub.status.busy": "2023-01-17T18:28:43.527355Z",
     "iopub.status.idle": "2023-01-17T18:28:43.791701Z",
     "shell.execute_reply": "2023-01-17T18:28:43.790385Z"
    },
    "papermill": {
     "duration": 0.278272,
     "end_time": "2023-01-17T18:28:43.794186",
     "exception": false,
     "start_time": "2023-01-17T18:28:43.515914",
     "status": "completed"
    },
    "tags": []
   },
   "outputs": [
    {
     "data": {
      "application/javascript": [
       "parent.postMessage({\"jupyterEvent\": \"custom.exercise_interaction\", \"data\": {\"outcomeType\": 1, \"valueTowardsCompletion\": 0.16666666666666666, \"interactionType\": 1, \"questionType\": 1, \"questionId\": \"5_DropMissingCols\", \"learnToolsVersion\": \"0.3.4\", \"failureMessage\": \"\", \"exceptionClass\": \"\", \"trace\": \"\"}}, \"*\")"
      ],
      "text/plain": [
       "<IPython.core.display.Javascript object>"
      ]
     },
     "metadata": {},
     "output_type": "display_data"
    },
    {
     "data": {
      "text/markdown": [
       "<span style=\"color:#33cc33\">Correct</span>"
      ],
      "text/plain": [
       "Correct"
      ]
     },
     "metadata": {},
     "output_type": "display_data"
    }
   ],
   "source": [
    "# TODO: Your code here\n",
    "sf_permits_with_na_dropped = sf_permits.dropna(axis=1)\n",
    "\n",
    "dropped_columns = len(sf_permits.columns) - len(sf_permits_with_na_dropped.columns)\n",
    "\n",
    "# Check your answer\n",
    "q5.check()"
   ]
  },
  {
   "cell_type": "code",
   "execution_count": 17,
   "id": "6c7088e3",
   "metadata": {
    "execution": {
     "iopub.execute_input": "2023-01-17T18:28:43.814433Z",
     "iopub.status.busy": "2023-01-17T18:28:43.814041Z",
     "iopub.status.idle": "2023-01-17T18:28:43.821001Z",
     "shell.execute_reply": "2023-01-17T18:28:43.819799Z"
    },
    "papermill": {
     "duration": 0.020089,
     "end_time": "2023-01-17T18:28:43.823881",
     "exception": false,
     "start_time": "2023-01-17T18:28:43.803792",
     "status": "completed"
    },
    "tags": []
   },
   "outputs": [],
   "source": [
    "# Lines below will give you a hint or solution code\n",
    "#q5.hint()\n",
    "#q5.solution()"
   ]
  },
  {
   "cell_type": "markdown",
   "id": "94789d8b",
   "metadata": {
    "papermill": {
     "duration": 0.009086,
     "end_time": "2023-01-17T18:28:43.842556",
     "exception": false,
     "start_time": "2023-01-17T18:28:43.833470",
     "status": "completed"
    },
    "tags": []
   },
   "source": [
    "# 6) Fill in missing values automatically\n",
    "\n",
    "Try replacing all the NaN's in the `sf_permits` data with the one that comes directly after it and then replacing any remaining NaN's with 0.  Set the result to a new DataFrame `sf_permits_with_na_imputed`."
   ]
  },
  {
   "cell_type": "code",
   "execution_count": 18,
   "id": "c1740612",
   "metadata": {
    "execution": {
     "iopub.execute_input": "2023-01-17T18:28:43.863421Z",
     "iopub.status.busy": "2023-01-17T18:28:43.863023Z",
     "iopub.status.idle": "2023-01-17T18:28:44.856122Z",
     "shell.execute_reply": "2023-01-17T18:28:44.854944Z"
    },
    "papermill": {
     "duration": 1.006638,
     "end_time": "2023-01-17T18:28:44.858720",
     "exception": false,
     "start_time": "2023-01-17T18:28:43.852082",
     "status": "completed"
    },
    "tags": []
   },
   "outputs": [
    {
     "data": {
      "application/javascript": [
       "parent.postMessage({\"jupyterEvent\": \"custom.exercise_interaction\", \"data\": {\"outcomeType\": 1, \"valueTowardsCompletion\": 0.16666666666666666, \"interactionType\": 1, \"questionType\": 1, \"questionId\": \"6_ImputeAutomatically\", \"learnToolsVersion\": \"0.3.4\", \"failureMessage\": \"\", \"exceptionClass\": \"\", \"trace\": \"\"}}, \"*\")"
      ],
      "text/plain": [
       "<IPython.core.display.Javascript object>"
      ]
     },
     "metadata": {},
     "output_type": "display_data"
    },
    {
     "data": {
      "text/markdown": [
       "<span style=\"color:#33cc33\">Correct</span>"
      ],
      "text/plain": [
       "Correct"
      ]
     },
     "metadata": {},
     "output_type": "display_data"
    }
   ],
   "source": [
    "# TODO: Your code here\n",
    "sf_permits_with_na_imputed = sf_permits.backfill(axis='rows').replace(to_replace=np.NAN, value=0)\n",
    "\n",
    "# Check your answer\n",
    "q6.check()"
   ]
  },
  {
   "cell_type": "code",
   "execution_count": 19,
   "id": "a9e3dc9d",
   "metadata": {
    "execution": {
     "iopub.execute_input": "2023-01-17T18:28:44.880328Z",
     "iopub.status.busy": "2023-01-17T18:28:44.879912Z",
     "iopub.status.idle": "2023-01-17T18:28:44.884475Z",
     "shell.execute_reply": "2023-01-17T18:28:44.883301Z"
    },
    "papermill": {
     "duration": 0.018176,
     "end_time": "2023-01-17T18:28:44.886857",
     "exception": false,
     "start_time": "2023-01-17T18:28:44.868681",
     "status": "completed"
    },
    "tags": []
   },
   "outputs": [],
   "source": [
    "# Lines below will give you a hint or solution code\n",
    "#q6.hint()\n",
    "#q6.solution()"
   ]
  },
  {
   "cell_type": "markdown",
   "id": "9799f3df",
   "metadata": {
    "papermill": {
     "duration": 0.009447,
     "end_time": "2023-01-17T18:28:44.905767",
     "exception": false,
     "start_time": "2023-01-17T18:28:44.896320",
     "status": "completed"
    },
    "tags": []
   },
   "source": [
    "# More practice\n",
    "\n",
    "If you're looking for more practice handling missing values:\n",
    "\n",
    "* Check out [this noteboook](https://www.kaggle.com/alexisbcook/missing-values) on handling missing values using scikit-learn's imputer. \n",
    "* Look back at the \"Zipcode\" column in the `sf_permits` dataset, which has some missing values. How would you go about figuring out what the actual zipcode of each address should be? (You might try using another dataset. You can search for datasets about San Fransisco on the [Datasets listing](https://www.kaggle.com/datasets).) \n",
    "\n",
    "# Keep going\n",
    "\n",
    "In the next lesson, learn how to [**apply scaling and normalization**](https://www.kaggle.com/alexisbcook/scaling-and-normalization) to transform your data."
   ]
  },
  {
   "cell_type": "markdown",
   "id": "6dfd7b57",
   "metadata": {
    "papermill": {
     "duration": 0.008892,
     "end_time": "2023-01-17T18:28:44.924373",
     "exception": false,
     "start_time": "2023-01-17T18:28:44.915481",
     "status": "completed"
    },
    "tags": []
   },
   "source": [
    "---\n",
    "\n",
    "\n",
    "\n",
    "\n",
    "*Have questions or comments? Visit the [course discussion forum](https://www.kaggle.com/learn/data-cleaning/discussion) to chat with other learners.*"
   ]
  }
 ],
 "metadata": {
  "kernelspec": {
   "display_name": "Python 3",
   "language": "python",
   "name": "python3"
  },
  "language_info": {
   "codemirror_mode": {
    "name": "ipython",
    "version": 3
   },
   "file_extension": ".py",
   "mimetype": "text/x-python",
   "name": "python",
   "nbconvert_exporter": "python",
   "pygments_lexer": "ipython3",
   "version": "3.7.12"
  },
  "papermill": {
   "default_parameters": {},
   "duration": 23.201869,
   "end_time": "2023-01-17T18:28:46.058182",
   "environment_variables": {},
   "exception": null,
   "input_path": "__notebook__.ipynb",
   "output_path": "__notebook__.ipynb",
   "parameters": {},
   "start_time": "2023-01-17T18:28:22.856313",
   "version": "2.3.4"
  }
 },
 "nbformat": 4,
 "nbformat_minor": 5
}
